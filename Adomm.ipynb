{
 "cells": [
  {
   "cell_type": "markdown",
   "id": "46a9574f",
   "metadata": {},
   "source": [
    "##### This notebook was created by Oluwaferanmi Alalade on the 19th of February, 2022"
   ]
  },
  {
   "cell_type": "markdown",
   "id": "029ec9fd",
   "metadata": {},
   "source": [
    "### The Questions I tried to answer\n",
    "- What product produces the most revenue?\n",
    "- What product is sold the most?\n",
    "- What part of the day do most of the orders come in?"
   ]
  },
  {
   "cell_type": "code",
   "execution_count": 205,
   "id": "d238e262",
   "metadata": {},
   "outputs": [],
   "source": [
    "#importing libraries\n",
    "import pandas as pd\n",
    "import numpy as np\n",
    "import matplotlib.pyplot as plt #for data visualization\n",
    "%matplotlib inline\n",
    "from matplotlib import style\n",
    "import seaborn as sns\n",
    "import plotly.express as px\n",
    "from datetime import datetime"
   ]
  },
  {
   "cell_type": "code",
   "execution_count": 206,
   "id": "80d210cf",
   "metadata": {},
   "outputs": [
    {
     "data": {
      "text/html": [
       "<div>\n",
       "<style scoped>\n",
       "    .dataframe tbody tr th:only-of-type {\n",
       "        vertical-align: middle;\n",
       "    }\n",
       "\n",
       "    .dataframe tbody tr th {\n",
       "        vertical-align: top;\n",
       "    }\n",
       "\n",
       "    .dataframe thead th {\n",
       "        text-align: right;\n",
       "    }\n",
       "</style>\n",
       "<table border=\"1\" class=\"dataframe\">\n",
       "  <thead>\n",
       "    <tr style=\"text-align: right;\">\n",
       "      <th></th>\n",
       "      <th>S/N</th>\n",
       "      <th>Date</th>\n",
       "      <th>Time</th>\n",
       "      <th>Item</th>\n",
       "      <th>Unit Sales</th>\n",
       "      <th>Whole Sales</th>\n",
       "      <th>Package 1</th>\n",
       "      <th>Package 2</th>\n",
       "      <th>Package 3</th>\n",
       "      <th>Selling Price</th>\n",
       "      <th>Bank Payment</th>\n",
       "      <th>Purchase Price</th>\n",
       "      <th>Deductions</th>\n",
       "      <th>Credit Sales</th>\n",
       "      <th>Credit Purchase Price</th>\n",
       "      <th>Sold To</th>\n",
       "      <th>Sold By</th>\n",
       "      <th>Reciept Number</th>\n",
       "    </tr>\n",
       "  </thead>\n",
       "  <tbody>\n",
       "    <tr>\n",
       "      <th>0</th>\n",
       "      <td>1</td>\n",
       "      <td>2020-05-01</td>\n",
       "      <td>08:52:00</td>\n",
       "      <td>Grow-max grower mash</td>\n",
       "      <td>NaN</td>\n",
       "      <td>NaN</td>\n",
       "      <td>12(12)</td>\n",
       "      <td>NaN</td>\n",
       "      <td>NaN</td>\n",
       "      <td>1440.0</td>\n",
       "      <td>NaN</td>\n",
       "      <td>1200.0</td>\n",
       "      <td>NaN</td>\n",
       "      <td>NaN</td>\n",
       "      <td>NaN</td>\n",
       "      <td>Mr soyinka</td>\n",
       "      <td>Adesiyan Funmi</td>\n",
       "      <td>00027849-1</td>\n",
       "    </tr>\n",
       "    <tr>\n",
       "      <th>1</th>\n",
       "      <td>2</td>\n",
       "      <td>2020-05-01</td>\n",
       "      <td>09:05:00</td>\n",
       "      <td>Aller aqua 2mm</td>\n",
       "      <td>NaN</td>\n",
       "      <td>NaN</td>\n",
       "      <td>2(2)</td>\n",
       "      <td>NaN</td>\n",
       "      <td>NaN</td>\n",
       "      <td>1220.0</td>\n",
       "      <td>NaN</td>\n",
       "      <td>1000.0</td>\n",
       "      <td>NaN</td>\n",
       "      <td>NaN</td>\n",
       "      <td>NaN</td>\n",
       "      <td>daddy</td>\n",
       "      <td>Adesiyan Funmi</td>\n",
       "      <td>00027850-1</td>\n",
       "    </tr>\n",
       "    <tr>\n",
       "      <th>2</th>\n",
       "      <td>3</td>\n",
       "      <td>2020-05-01</td>\n",
       "      <td>09:06:00</td>\n",
       "      <td>Aller aqua 2mm</td>\n",
       "      <td>NaN</td>\n",
       "      <td>NaN</td>\n",
       "      <td>1(1)</td>\n",
       "      <td>NaN</td>\n",
       "      <td>NaN</td>\n",
       "      <td>610.0</td>\n",
       "      <td>NaN</td>\n",
       "      <td>500.0</td>\n",
       "      <td>NaN</td>\n",
       "      <td>NaN</td>\n",
       "      <td>NaN</td>\n",
       "      <td>Abduramon</td>\n",
       "      <td>Adesiyan Funmi</td>\n",
       "      <td>00027851-1</td>\n",
       "    </tr>\n",
       "    <tr>\n",
       "      <th>3</th>\n",
       "      <td>4</td>\n",
       "      <td>2020-05-01</td>\n",
       "      <td>09:08:00</td>\n",
       "      <td>Soya meal ord./ Karma Soya</td>\n",
       "      <td>NaN</td>\n",
       "      <td>NaN</td>\n",
       "      <td>5(5)</td>\n",
       "      <td>NaN</td>\n",
       "      <td>NaN</td>\n",
       "      <td>625.0</td>\n",
       "      <td>NaN</td>\n",
       "      <td>850.0</td>\n",
       "      <td>NaN</td>\n",
       "      <td>NaN</td>\n",
       "      <td>NaN</td>\n",
       "      <td>Mr baloguin</td>\n",
       "      <td>Adesiyan Funmi</td>\n",
       "      <td>00027852-1</td>\n",
       "    </tr>\n",
       "    <tr>\n",
       "      <th>4</th>\n",
       "      <td>5</td>\n",
       "      <td>2020-05-01</td>\n",
       "      <td>09:22:00</td>\n",
       "      <td>Skretting 2mm</td>\n",
       "      <td>NaN</td>\n",
       "      <td>NaN</td>\n",
       "      <td>8(8)</td>\n",
       "      <td>NaN</td>\n",
       "      <td>NaN</td>\n",
       "      <td>5520.0</td>\n",
       "      <td>NaN</td>\n",
       "      <td>4800.0</td>\n",
       "      <td>NaN</td>\n",
       "      <td>NaN</td>\n",
       "      <td>NaN</td>\n",
       "      <td>Olasheu</td>\n",
       "      <td>Adesiyan Funmi</td>\n",
       "      <td>00027853-1</td>\n",
       "    </tr>\n",
       "  </tbody>\n",
       "</table>\n",
       "</div>"
      ],
      "text/plain": [
       "   S/N       Date      Time                         Item  Unit Sales  \\\n",
       "0    1 2020-05-01  08:52:00         Grow-max grower mash         NaN   \n",
       "1    2 2020-05-01  09:05:00               Aller aqua 2mm         NaN   \n",
       "2    3 2020-05-01  09:06:00               Aller aqua 2mm         NaN   \n",
       "3    4 2020-05-01  09:08:00   Soya meal ord./ Karma Soya         NaN   \n",
       "4    5 2020-05-01  09:22:00                Skretting 2mm         NaN   \n",
       "\n",
       "   Whole Sales Package 1 Package 2 Package 3  Selling Price  Bank Payment  \\\n",
       "0          NaN    12(12)       NaN       NaN         1440.0           NaN   \n",
       "1          NaN      2(2)       NaN       NaN         1220.0           NaN   \n",
       "2          NaN      1(1)       NaN       NaN          610.0           NaN   \n",
       "3          NaN      5(5)       NaN       NaN          625.0           NaN   \n",
       "4          NaN      8(8)       NaN       NaN         5520.0           NaN   \n",
       "\n",
       "   Purchase Price  Deductions  Credit Sales  Credit Purchase Price  \\\n",
       "0          1200.0         NaN           NaN                    NaN   \n",
       "1          1000.0         NaN           NaN                    NaN   \n",
       "2           500.0         NaN           NaN                    NaN   \n",
       "3           850.0         NaN           NaN                    NaN   \n",
       "4          4800.0         NaN           NaN                    NaN   \n",
       "\n",
       "       Sold To          Sold By Reciept Number  \n",
       "0   Mr soyinka  Adesiyan Funmi      00027849-1  \n",
       "1        daddy  Adesiyan Funmi      00027850-1  \n",
       "2    Abduramon  Adesiyan Funmi      00027851-1  \n",
       "3  Mr baloguin  Adesiyan Funmi      00027852-1  \n",
       "4      Olasheu  Adesiyan Funmi      00027853-1  "
      ]
     },
     "execution_count": 206,
     "metadata": {},
     "output_type": "execute_result"
    }
   ],
   "source": [
    "df = pd.read_excel(r\"C:\\Users\\hp\\Documents\\adomm.xlsx\") #Importing the data\n",
    "df.head() #View the top 5 columns"
   ]
  },
  {
   "cell_type": "code",
   "execution_count": 207,
   "id": "e81119eb",
   "metadata": {},
   "outputs": [
    {
     "data": {
      "text/html": [
       "<div>\n",
       "<style scoped>\n",
       "    .dataframe tbody tr th:only-of-type {\n",
       "        vertical-align: middle;\n",
       "    }\n",
       "\n",
       "    .dataframe tbody tr th {\n",
       "        vertical-align: top;\n",
       "    }\n",
       "\n",
       "    .dataframe thead th {\n",
       "        text-align: right;\n",
       "    }\n",
       "</style>\n",
       "<table border=\"1\" class=\"dataframe\">\n",
       "  <thead>\n",
       "    <tr style=\"text-align: right;\">\n",
       "      <th></th>\n",
       "      <th>S/N</th>\n",
       "      <th>Date</th>\n",
       "      <th>Time</th>\n",
       "      <th>Item</th>\n",
       "      <th>Unit Sales</th>\n",
       "      <th>Whole Sales</th>\n",
       "      <th>Package 1</th>\n",
       "      <th>Package 2</th>\n",
       "      <th>Package 3</th>\n",
       "      <th>Selling Price</th>\n",
       "      <th>Bank Payment</th>\n",
       "      <th>Purchase Price</th>\n",
       "      <th>Deductions</th>\n",
       "      <th>Credit Sales</th>\n",
       "      <th>Credit Purchase Price</th>\n",
       "      <th>Sold To</th>\n",
       "      <th>Sold By</th>\n",
       "      <th>Reciept Number</th>\n",
       "    </tr>\n",
       "  </thead>\n",
       "  <tbody>\n",
       "    <tr>\n",
       "      <th>0</th>\n",
       "      <td>1</td>\n",
       "      <td>2020-05-01</td>\n",
       "      <td>08:52:00</td>\n",
       "      <td>Grow-max grower mash</td>\n",
       "      <td>NaN</td>\n",
       "      <td>NaN</td>\n",
       "      <td>12(12)</td>\n",
       "      <td>NaN</td>\n",
       "      <td>NaN</td>\n",
       "      <td>1440.0</td>\n",
       "      <td>NaN</td>\n",
       "      <td>1200.0</td>\n",
       "      <td>NaN</td>\n",
       "      <td>NaN</td>\n",
       "      <td>NaN</td>\n",
       "      <td>Mr soyinka</td>\n",
       "      <td>Adesiyan Funmi</td>\n",
       "      <td>00027849-1</td>\n",
       "    </tr>\n",
       "    <tr>\n",
       "      <th>1</th>\n",
       "      <td>2</td>\n",
       "      <td>2020-05-01</td>\n",
       "      <td>09:05:00</td>\n",
       "      <td>Aller aqua 2mm</td>\n",
       "      <td>NaN</td>\n",
       "      <td>NaN</td>\n",
       "      <td>2(2)</td>\n",
       "      <td>NaN</td>\n",
       "      <td>NaN</td>\n",
       "      <td>1220.0</td>\n",
       "      <td>NaN</td>\n",
       "      <td>1000.0</td>\n",
       "      <td>NaN</td>\n",
       "      <td>NaN</td>\n",
       "      <td>NaN</td>\n",
       "      <td>daddy</td>\n",
       "      <td>Adesiyan Funmi</td>\n",
       "      <td>00027850-1</td>\n",
       "    </tr>\n",
       "    <tr>\n",
       "      <th>2</th>\n",
       "      <td>3</td>\n",
       "      <td>2020-05-01</td>\n",
       "      <td>09:06:00</td>\n",
       "      <td>Aller aqua 2mm</td>\n",
       "      <td>NaN</td>\n",
       "      <td>NaN</td>\n",
       "      <td>1(1)</td>\n",
       "      <td>NaN</td>\n",
       "      <td>NaN</td>\n",
       "      <td>610.0</td>\n",
       "      <td>NaN</td>\n",
       "      <td>500.0</td>\n",
       "      <td>NaN</td>\n",
       "      <td>NaN</td>\n",
       "      <td>NaN</td>\n",
       "      <td>Abduramon</td>\n",
       "      <td>Adesiyan Funmi</td>\n",
       "      <td>00027851-1</td>\n",
       "    </tr>\n",
       "    <tr>\n",
       "      <th>3</th>\n",
       "      <td>4</td>\n",
       "      <td>2020-05-01</td>\n",
       "      <td>09:08:00</td>\n",
       "      <td>Soya meal ord./ Karma Soya</td>\n",
       "      <td>NaN</td>\n",
       "      <td>NaN</td>\n",
       "      <td>5(5)</td>\n",
       "      <td>NaN</td>\n",
       "      <td>NaN</td>\n",
       "      <td>625.0</td>\n",
       "      <td>NaN</td>\n",
       "      <td>850.0</td>\n",
       "      <td>NaN</td>\n",
       "      <td>NaN</td>\n",
       "      <td>NaN</td>\n",
       "      <td>Mr baloguin</td>\n",
       "      <td>Adesiyan Funmi</td>\n",
       "      <td>00027852-1</td>\n",
       "    </tr>\n",
       "    <tr>\n",
       "      <th>4</th>\n",
       "      <td>5</td>\n",
       "      <td>2020-05-01</td>\n",
       "      <td>09:22:00</td>\n",
       "      <td>Skretting 2mm</td>\n",
       "      <td>NaN</td>\n",
       "      <td>NaN</td>\n",
       "      <td>8(8)</td>\n",
       "      <td>NaN</td>\n",
       "      <td>NaN</td>\n",
       "      <td>5520.0</td>\n",
       "      <td>NaN</td>\n",
       "      <td>4800.0</td>\n",
       "      <td>NaN</td>\n",
       "      <td>NaN</td>\n",
       "      <td>NaN</td>\n",
       "      <td>Olasheu</td>\n",
       "      <td>Adesiyan Funmi</td>\n",
       "      <td>00027853-1</td>\n",
       "    </tr>\n",
       "  </tbody>\n",
       "</table>\n",
       "</div>"
      ],
      "text/plain": [
       "   S/N       Date      Time                         Item  Unit Sales  \\\n",
       "0    1 2020-05-01  08:52:00         Grow-max grower mash         NaN   \n",
       "1    2 2020-05-01  09:05:00               Aller aqua 2mm         NaN   \n",
       "2    3 2020-05-01  09:06:00               Aller aqua 2mm         NaN   \n",
       "3    4 2020-05-01  09:08:00   Soya meal ord./ Karma Soya         NaN   \n",
       "4    5 2020-05-01  09:22:00                Skretting 2mm         NaN   \n",
       "\n",
       "   Whole Sales Package 1 Package 2 Package 3  Selling Price  Bank Payment  \\\n",
       "0          NaN    12(12)       NaN       NaN         1440.0           NaN   \n",
       "1          NaN      2(2)       NaN       NaN         1220.0           NaN   \n",
       "2          NaN      1(1)       NaN       NaN          610.0           NaN   \n",
       "3          NaN      5(5)       NaN       NaN          625.0           NaN   \n",
       "4          NaN      8(8)       NaN       NaN         5520.0           NaN   \n",
       "\n",
       "   Purchase Price  Deductions  Credit Sales  Credit Purchase Price  \\\n",
       "0          1200.0         NaN           NaN                    NaN   \n",
       "1          1000.0         NaN           NaN                    NaN   \n",
       "2           500.0         NaN           NaN                    NaN   \n",
       "3           850.0         NaN           NaN                    NaN   \n",
       "4          4800.0         NaN           NaN                    NaN   \n",
       "\n",
       "       Sold To          Sold By Reciept Number  \n",
       "0   Mr soyinka  Adesiyan Funmi      00027849-1  \n",
       "1        daddy  Adesiyan Funmi      00027850-1  \n",
       "2    Abduramon  Adesiyan Funmi      00027851-1  \n",
       "3  Mr baloguin  Adesiyan Funmi      00027852-1  \n",
       "4      Olasheu  Adesiyan Funmi      00027853-1  "
      ]
     },
     "execution_count": 207,
     "metadata": {},
     "output_type": "execute_result"
    }
   ],
   "source": [
    "df.head()"
   ]
  },
  {
   "cell_type": "code",
   "execution_count": 208,
   "id": "99b80017",
   "metadata": {},
   "outputs": [],
   "source": [
    "# # df[\"Quantity\"] = df[['Package 1', 'Package 2', 'Package 3']].agg('-'.join, axis=1)\n",
    "# df[\"Quantity\"] = df[\"Package 1\"].astype(str)+\"-\"+ df[\"Package 2\"].astype(str) +\"-\"+ df[\"Package 3\"]\n",
    "# df[\"Quantity\"].value_counts()"
   ]
  },
  {
   "cell_type": "code",
   "execution_count": 209,
   "id": "7ef68d1c",
   "metadata": {},
   "outputs": [
    {
     "data": {
      "text/plain": [
       "S/N                               int64\n",
       "Date                     datetime64[ns]\n",
       "Time                             object\n",
       "Item                             object\n",
       "Unit Sales                      float64\n",
       "Whole Sales                     float64\n",
       "Package 1                        object\n",
       "Package 2                        object\n",
       "Package 3                        object\n",
       "Selling Price                   float64\n",
       "Bank Payment                    float64\n",
       "Purchase Price                  float64\n",
       "Deductions                      float64\n",
       "Credit Sales                    float64\n",
       "Credit Purchase Price           float64\n",
       "Sold To                          object\n",
       "Sold By                          object\n",
       "Reciept Number                   object\n",
       "dtype: object"
      ]
     },
     "execution_count": 209,
     "metadata": {},
     "output_type": "execute_result"
    }
   ],
   "source": [
    "df.dtypes #To know the datatypes of each column"
   ]
  },
  {
   "cell_type": "markdown",
   "id": "6e00c632",
   "metadata": {},
   "source": [
    "Since most of the columns are already in the desired data types, there is no need for much formatting"
   ]
  },
  {
   "cell_type": "code",
   "execution_count": 210,
   "id": "7608c697",
   "metadata": {},
   "outputs": [
    {
     "data": {
      "text/html": [
       "<div>\n",
       "<style scoped>\n",
       "    .dataframe tbody tr th:only-of-type {\n",
       "        vertical-align: middle;\n",
       "    }\n",
       "\n",
       "    .dataframe tbody tr th {\n",
       "        vertical-align: top;\n",
       "    }\n",
       "\n",
       "    .dataframe thead th {\n",
       "        text-align: right;\n",
       "    }\n",
       "</style>\n",
       "<table border=\"1\" class=\"dataframe\">\n",
       "  <thead>\n",
       "    <tr style=\"text-align: right;\">\n",
       "      <th></th>\n",
       "      <th>S/N</th>\n",
       "      <th>Unit Sales</th>\n",
       "      <th>Whole Sales</th>\n",
       "      <th>Selling Price</th>\n",
       "      <th>Bank Payment</th>\n",
       "      <th>Purchase Price</th>\n",
       "      <th>Deductions</th>\n",
       "      <th>Credit Sales</th>\n",
       "      <th>Credit Purchase Price</th>\n",
       "    </tr>\n",
       "  </thead>\n",
       "  <tbody>\n",
       "    <tr>\n",
       "      <th>count</th>\n",
       "      <td>1349.000000</td>\n",
       "      <td>0.0</td>\n",
       "      <td>0.0</td>\n",
       "      <td>1300.000000</td>\n",
       "      <td>0.0</td>\n",
       "      <td>1300.000000</td>\n",
       "      <td>42.000000</td>\n",
       "      <td>7.000000</td>\n",
       "      <td>7.000000</td>\n",
       "    </tr>\n",
       "    <tr>\n",
       "      <th>mean</th>\n",
       "      <td>675.000000</td>\n",
       "      <td>NaN</td>\n",
       "      <td>NaN</td>\n",
       "      <td>12946.800000</td>\n",
       "      <td>NaN</td>\n",
       "      <td>11580.605008</td>\n",
       "      <td>33051.904762</td>\n",
       "      <td>73821.428571</td>\n",
       "      <td>48065.250000</td>\n",
       "    </tr>\n",
       "    <tr>\n",
       "      <th>std</th>\n",
       "      <td>389.567067</td>\n",
       "      <td>NaN</td>\n",
       "      <td>NaN</td>\n",
       "      <td>43645.305457</td>\n",
       "      <td>NaN</td>\n",
       "      <td>38657.196694</td>\n",
       "      <td>82188.507950</td>\n",
       "      <td>115466.105622</td>\n",
       "      <td>80558.917097</td>\n",
       "    </tr>\n",
       "    <tr>\n",
       "      <th>min</th>\n",
       "      <td>1.000000</td>\n",
       "      <td>NaN</td>\n",
       "      <td>NaN</td>\n",
       "      <td>14.000000</td>\n",
       "      <td>NaN</td>\n",
       "      <td>0.000000</td>\n",
       "      <td>270.000000</td>\n",
       "      <td>3000.000000</td>\n",
       "      <td>0.000000</td>\n",
       "    </tr>\n",
       "    <tr>\n",
       "      <th>25%</th>\n",
       "      <td>338.000000</td>\n",
       "      <td>NaN</td>\n",
       "      <td>NaN</td>\n",
       "      <td>480.000000</td>\n",
       "      <td>NaN</td>\n",
       "      <td>240.000000</td>\n",
       "      <td>1840.000000</td>\n",
       "      <td>6250.000000</td>\n",
       "      <td>1403.375000</td>\n",
       "    </tr>\n",
       "    <tr>\n",
       "      <th>50%</th>\n",
       "      <td>675.000000</td>\n",
       "      <td>NaN</td>\n",
       "      <td>NaN</td>\n",
       "      <td>1400.000000</td>\n",
       "      <td>NaN</td>\n",
       "      <td>1000.000000</td>\n",
       "      <td>4000.000000</td>\n",
       "      <td>23100.000000</td>\n",
       "      <td>4000.000000</td>\n",
       "    </tr>\n",
       "    <tr>\n",
       "      <th>75%</th>\n",
       "      <td>1012.000000</td>\n",
       "      <td>NaN</td>\n",
       "      <td>NaN</td>\n",
       "      <td>6000.000000</td>\n",
       "      <td>NaN</td>\n",
       "      <td>4283.000000</td>\n",
       "      <td>9900.000000</td>\n",
       "      <td>76575.000000</td>\n",
       "      <td>57750.000000</td>\n",
       "    </tr>\n",
       "    <tr>\n",
       "      <th>max</th>\n",
       "      <td>1349.000000</td>\n",
       "      <td>NaN</td>\n",
       "      <td>NaN</td>\n",
       "      <td>558000.000000</td>\n",
       "      <td>NaN</td>\n",
       "      <td>450000.000000</td>\n",
       "      <td>456000.000000</td>\n",
       "      <td>325000.000000</td>\n",
       "      <td>214150.000000</td>\n",
       "    </tr>\n",
       "  </tbody>\n",
       "</table>\n",
       "</div>"
      ],
      "text/plain": [
       "               S/N  Unit Sales  Whole Sales  Selling Price  Bank Payment  \\\n",
       "count  1349.000000         0.0          0.0    1300.000000           0.0   \n",
       "mean    675.000000         NaN          NaN   12946.800000           NaN   \n",
       "std     389.567067         NaN          NaN   43645.305457           NaN   \n",
       "min       1.000000         NaN          NaN      14.000000           NaN   \n",
       "25%     338.000000         NaN          NaN     480.000000           NaN   \n",
       "50%     675.000000         NaN          NaN    1400.000000           NaN   \n",
       "75%    1012.000000         NaN          NaN    6000.000000           NaN   \n",
       "max    1349.000000         NaN          NaN  558000.000000           NaN   \n",
       "\n",
       "       Purchase Price     Deductions   Credit Sales  Credit Purchase Price  \n",
       "count     1300.000000      42.000000       7.000000               7.000000  \n",
       "mean     11580.605008   33051.904762   73821.428571           48065.250000  \n",
       "std      38657.196694   82188.507950  115466.105622           80558.917097  \n",
       "min          0.000000     270.000000    3000.000000               0.000000  \n",
       "25%        240.000000    1840.000000    6250.000000            1403.375000  \n",
       "50%       1000.000000    4000.000000   23100.000000            4000.000000  \n",
       "75%       4283.000000    9900.000000   76575.000000           57750.000000  \n",
       "max     450000.000000  456000.000000  325000.000000          214150.000000  "
      ]
     },
     "execution_count": 210,
     "metadata": {},
     "output_type": "execute_result"
    }
   ],
   "source": [
    "df.describe()"
   ]
  },
  {
   "cell_type": "code",
   "execution_count": 211,
   "id": "8d4a060d",
   "metadata": {},
   "outputs": [
    {
     "data": {
      "text/plain": [
       "Index(['S/N', 'Date', 'Time', 'Item', 'Unit Sales', 'Whole Sales', 'Package 1',\n",
       "       'Package 2', 'Package 3', 'Selling Price', 'Bank Payment',\n",
       "       'Purchase Price', 'Deductions', 'Credit Sales', 'Credit Purchase Price',\n",
       "       'Sold To', 'Sold By', 'Reciept Number'],\n",
       "      dtype='object')"
      ]
     },
     "execution_count": 211,
     "metadata": {},
     "output_type": "execute_result"
    }
   ],
   "source": [
    "df.columns"
   ]
  },
  {
   "cell_type": "code",
   "execution_count": 212,
   "id": "f12562ce",
   "metadata": {},
   "outputs": [
    {
     "name": "stdout",
     "output_type": "stream",
     "text": [
      "The record of the Sales data is from 2020-05-01 00:00:00 to 2020-05-21 00:00:00\n"
     ]
    }
   ],
   "source": [
    "max_date = df[\"Date\"].max()\n",
    "min_date = df[\"Date\"].min()\n",
    "\n",
    "print(f\"The record of the Sales data is from {min_date} to {max_date}\")"
   ]
  },
  {
   "cell_type": "markdown",
   "id": "248646dd",
   "metadata": {},
   "source": [
    "## Data Cleaning\n",
    "### Removing the data not needed for our exploration\n",
    " - Some columns are not needed for our analysis.\n",
    " - The products that were returned by customers have returned in bracket, they are not needed as we are concerned with sales.\n",
    " - Place the unit sales, wholesales, package1, package2, package3 into one column \"Quantity\" and remove the brackets"
   ]
  },
  {
   "cell_type": "code",
   "execution_count": 213,
   "id": "5846169c",
   "metadata": {},
   "outputs": [],
   "source": [
    "#Return a dataframe which excludes the product rows that were returned\n",
    "df_new = df[df[\"Item\"].str.contains(\"Returned\") == False]"
   ]
  },
  {
   "cell_type": "code",
   "execution_count": 216,
   "id": "b2b6d5f5",
   "metadata": {},
   "outputs": [],
   "source": [
    "def comb_col(df):\n",
    "    Quantity=[]\n",
    "    for index,record in df.iterrows():\n",
    "        if pd.notnull(record[\"Package 1\"]):\n",
    "            package = record[\"Package 1\"]\n",
    "        elif pd.notnull(record[\"Package 2\"]):\n",
    "            package = record[\"Package 2\"]\n",
    "        elif pd.notnull(record[\"Package 3\"]):\n",
    "            package = record[\"Package 3\"]\n",
    "        elif pd.notnull(record[\"Unit Sales\"]):\n",
    "            package = record[\"Unit Sales\"]\n",
    "        elif pd.notnull(record[\"Whole Sales\"]):\n",
    "            package = record[\"Whole Sales\"]\n",
    "        Quantity.append(float(str(package).split(\"(\")[0]))\n",
    "    return Quantity"
   ]
  },
  {
   "cell_type": "code",
   "execution_count": 217,
   "id": "484fbd0f",
   "metadata": {},
   "outputs": [
    {
     "name": "stderr",
     "output_type": "stream",
     "text": [
      "C:\\Users\\hp\\AppData\\Local\\Temp/ipykernel_17644/1403703603.py:1: SettingWithCopyWarning: \n",
      "A value is trying to be set on a copy of a slice from a DataFrame.\n",
      "Try using .loc[row_indexer,col_indexer] = value instead\n",
      "\n",
      "See the caveats in the documentation: https://pandas.pydata.org/pandas-docs/stable/user_guide/indexing.html#returning-a-view-versus-a-copy\n",
      "  df_new[\"Quantity\"] = comb_col(df_new)\n"
     ]
    }
   ],
   "source": [
    "df_new[\"Quantity\"] = comb_col(df_new)"
   ]
  },
  {
   "cell_type": "code",
   "execution_count": 218,
   "id": "5fc60ccd",
   "metadata": {},
   "outputs": [
    {
     "data": {
      "text/plain": [
       "1.0       422\n",
       "2.0       230\n",
       "3.0        88\n",
       "5.0        84\n",
       "4.0        72\n",
       "         ... \n",
       "52.0        1\n",
       "90.0        1\n",
       "69.0        1\n",
       "1700.0      1\n",
       "87.0        1\n",
       "Name: Quantity, Length: 75, dtype: int64"
      ]
     },
     "execution_count": 218,
     "metadata": {},
     "output_type": "execute_result"
    }
   ],
   "source": [
    "df_new[\"Quantity\"].value_counts()"
   ]
  },
  {
   "cell_type": "code",
   "execution_count": 219,
   "id": "47367bb3",
   "metadata": {},
   "outputs": [
    {
     "data": {
      "text/html": [
       "<div>\n",
       "<style scoped>\n",
       "    .dataframe tbody tr th:only-of-type {\n",
       "        vertical-align: middle;\n",
       "    }\n",
       "\n",
       "    .dataframe tbody tr th {\n",
       "        vertical-align: top;\n",
       "    }\n",
       "\n",
       "    .dataframe thead th {\n",
       "        text-align: right;\n",
       "    }\n",
       "</style>\n",
       "<table border=\"1\" class=\"dataframe\">\n",
       "  <thead>\n",
       "    <tr style=\"text-align: right;\">\n",
       "      <th></th>\n",
       "      <th>S/N</th>\n",
       "      <th>Date</th>\n",
       "      <th>Time</th>\n",
       "      <th>Item</th>\n",
       "      <th>Unit Sales</th>\n",
       "      <th>Whole Sales</th>\n",
       "      <th>Package 1</th>\n",
       "      <th>Package 2</th>\n",
       "      <th>Package 3</th>\n",
       "      <th>Selling Price</th>\n",
       "      <th>Bank Payment</th>\n",
       "      <th>Purchase Price</th>\n",
       "      <th>Deductions</th>\n",
       "      <th>Credit Sales</th>\n",
       "      <th>Credit Purchase Price</th>\n",
       "      <th>Sold To</th>\n",
       "      <th>Sold By</th>\n",
       "      <th>Reciept Number</th>\n",
       "      <th>Quantity</th>\n",
       "    </tr>\n",
       "  </thead>\n",
       "  <tbody>\n",
       "    <tr>\n",
       "      <th>0</th>\n",
       "      <td>1</td>\n",
       "      <td>2020-05-01</td>\n",
       "      <td>08:52:00</td>\n",
       "      <td>Grow-max grower mash</td>\n",
       "      <td>NaN</td>\n",
       "      <td>NaN</td>\n",
       "      <td>12(12)</td>\n",
       "      <td>NaN</td>\n",
       "      <td>NaN</td>\n",
       "      <td>1440.0</td>\n",
       "      <td>NaN</td>\n",
       "      <td>1200.0</td>\n",
       "      <td>NaN</td>\n",
       "      <td>NaN</td>\n",
       "      <td>NaN</td>\n",
       "      <td>Mr soyinka</td>\n",
       "      <td>Adesiyan Funmi</td>\n",
       "      <td>00027849-1</td>\n",
       "      <td>12.0</td>\n",
       "    </tr>\n",
       "    <tr>\n",
       "      <th>1</th>\n",
       "      <td>2</td>\n",
       "      <td>2020-05-01</td>\n",
       "      <td>09:05:00</td>\n",
       "      <td>Aller aqua 2mm</td>\n",
       "      <td>NaN</td>\n",
       "      <td>NaN</td>\n",
       "      <td>2(2)</td>\n",
       "      <td>NaN</td>\n",
       "      <td>NaN</td>\n",
       "      <td>1220.0</td>\n",
       "      <td>NaN</td>\n",
       "      <td>1000.0</td>\n",
       "      <td>NaN</td>\n",
       "      <td>NaN</td>\n",
       "      <td>NaN</td>\n",
       "      <td>daddy</td>\n",
       "      <td>Adesiyan Funmi</td>\n",
       "      <td>00027850-1</td>\n",
       "      <td>2.0</td>\n",
       "    </tr>\n",
       "    <tr>\n",
       "      <th>2</th>\n",
       "      <td>3</td>\n",
       "      <td>2020-05-01</td>\n",
       "      <td>09:06:00</td>\n",
       "      <td>Aller aqua 2mm</td>\n",
       "      <td>NaN</td>\n",
       "      <td>NaN</td>\n",
       "      <td>1(1)</td>\n",
       "      <td>NaN</td>\n",
       "      <td>NaN</td>\n",
       "      <td>610.0</td>\n",
       "      <td>NaN</td>\n",
       "      <td>500.0</td>\n",
       "      <td>NaN</td>\n",
       "      <td>NaN</td>\n",
       "      <td>NaN</td>\n",
       "      <td>Abduramon</td>\n",
       "      <td>Adesiyan Funmi</td>\n",
       "      <td>00027851-1</td>\n",
       "      <td>1.0</td>\n",
       "    </tr>\n",
       "    <tr>\n",
       "      <th>3</th>\n",
       "      <td>4</td>\n",
       "      <td>2020-05-01</td>\n",
       "      <td>09:08:00</td>\n",
       "      <td>Soya meal ord./ Karma Soya</td>\n",
       "      <td>NaN</td>\n",
       "      <td>NaN</td>\n",
       "      <td>5(5)</td>\n",
       "      <td>NaN</td>\n",
       "      <td>NaN</td>\n",
       "      <td>625.0</td>\n",
       "      <td>NaN</td>\n",
       "      <td>850.0</td>\n",
       "      <td>NaN</td>\n",
       "      <td>NaN</td>\n",
       "      <td>NaN</td>\n",
       "      <td>Mr baloguin</td>\n",
       "      <td>Adesiyan Funmi</td>\n",
       "      <td>00027852-1</td>\n",
       "      <td>5.0</td>\n",
       "    </tr>\n",
       "    <tr>\n",
       "      <th>4</th>\n",
       "      <td>5</td>\n",
       "      <td>2020-05-01</td>\n",
       "      <td>09:22:00</td>\n",
       "      <td>Skretting 2mm</td>\n",
       "      <td>NaN</td>\n",
       "      <td>NaN</td>\n",
       "      <td>8(8)</td>\n",
       "      <td>NaN</td>\n",
       "      <td>NaN</td>\n",
       "      <td>5520.0</td>\n",
       "      <td>NaN</td>\n",
       "      <td>4800.0</td>\n",
       "      <td>NaN</td>\n",
       "      <td>NaN</td>\n",
       "      <td>NaN</td>\n",
       "      <td>Olasheu</td>\n",
       "      <td>Adesiyan Funmi</td>\n",
       "      <td>00027853-1</td>\n",
       "      <td>8.0</td>\n",
       "    </tr>\n",
       "  </tbody>\n",
       "</table>\n",
       "</div>"
      ],
      "text/plain": [
       "   S/N       Date      Time                         Item  Unit Sales  \\\n",
       "0    1 2020-05-01  08:52:00         Grow-max grower mash         NaN   \n",
       "1    2 2020-05-01  09:05:00               Aller aqua 2mm         NaN   \n",
       "2    3 2020-05-01  09:06:00               Aller aqua 2mm         NaN   \n",
       "3    4 2020-05-01  09:08:00   Soya meal ord./ Karma Soya         NaN   \n",
       "4    5 2020-05-01  09:22:00                Skretting 2mm         NaN   \n",
       "\n",
       "   Whole Sales Package 1 Package 2 Package 3  Selling Price  Bank Payment  \\\n",
       "0          NaN    12(12)       NaN       NaN         1440.0           NaN   \n",
       "1          NaN      2(2)       NaN       NaN         1220.0           NaN   \n",
       "2          NaN      1(1)       NaN       NaN          610.0           NaN   \n",
       "3          NaN      5(5)       NaN       NaN          625.0           NaN   \n",
       "4          NaN      8(8)       NaN       NaN         5520.0           NaN   \n",
       "\n",
       "   Purchase Price  Deductions  Credit Sales  Credit Purchase Price  \\\n",
       "0          1200.0         NaN           NaN                    NaN   \n",
       "1          1000.0         NaN           NaN                    NaN   \n",
       "2           500.0         NaN           NaN                    NaN   \n",
       "3           850.0         NaN           NaN                    NaN   \n",
       "4          4800.0         NaN           NaN                    NaN   \n",
       "\n",
       "       Sold To          Sold By Reciept Number  Quantity  \n",
       "0   Mr soyinka  Adesiyan Funmi      00027849-1      12.0  \n",
       "1        daddy  Adesiyan Funmi      00027850-1       2.0  \n",
       "2    Abduramon  Adesiyan Funmi      00027851-1       1.0  \n",
       "3  Mr baloguin  Adesiyan Funmi      00027852-1       5.0  \n",
       "4      Olasheu  Adesiyan Funmi      00027853-1       8.0  "
      ]
     },
     "execution_count": 219,
     "metadata": {},
     "output_type": "execute_result"
    }
   ],
   "source": [
    "df_new.head()"
   ]
  },
  {
   "cell_type": "code",
   "execution_count": 220,
   "id": "f559f009",
   "metadata": {},
   "outputs": [
    {
     "name": "stderr",
     "output_type": "stream",
     "text": [
      "C:\\Users\\hp\\anaconda3\\lib\\site-packages\\pandas\\core\\frame.py:4906: SettingWithCopyWarning: \n",
      "A value is trying to be set on a copy of a slice from a DataFrame\n",
      "\n",
      "See the caveats in the documentation: https://pandas.pydata.org/pandas-docs/stable/user_guide/indexing.html#returning-a-view-versus-a-copy\n",
      "  return super().drop(\n"
     ]
    }
   ],
   "source": [
    "#Removing the columns that are not useful to our analysis\n",
    "#Unit sales, wholesales, Package 1, 2, 3, Deductions, Receipt Number, Credit purchase price, Bank payment, Sold By\n",
    "df_new.drop([\"Unit Sales\", \"Whole Sales\", \"Package 1\", \"Package 2\", \"Package 3\", \"Deductions\", \"Reciept Number\", \n",
    "         \"Credit Purchase Price\", \"Bank Payment\", \"Sold By\", \"Credit Sales\"], axis = 1, inplace = True)"
   ]
  },
  {
   "cell_type": "markdown",
   "id": "29a0ef0e",
   "metadata": {},
   "source": [
    " - Filling the missing values\n",
    " - Checking for duplicate transactions"
   ]
  },
  {
   "cell_type": "code",
   "execution_count": 221,
   "id": "ddbc9f21",
   "metadata": {},
   "outputs": [
    {
     "name": "stdout",
     "output_type": "stream",
     "text": [
      "S/N               0\n",
      "Date              0\n",
      "Time              0\n",
      "Item              0\n",
      "Selling Price     7\n",
      "Purchase Price    7\n",
      "Sold To           3\n",
      "Quantity          0\n",
      "dtype: int64\n"
     ]
    }
   ],
   "source": [
    "print(df_new.isnull().sum()) #To know how many empty cells in each column"
   ]
  },
  {
   "cell_type": "code",
   "execution_count": 222,
   "id": "8b6e99ee",
   "metadata": {},
   "outputs": [
    {
     "name": "stderr",
     "output_type": "stream",
     "text": [
      "C:\\Users\\hp\\anaconda3\\lib\\site-packages\\pandas\\core\\frame.py:3641: SettingWithCopyWarning: \n",
      "A value is trying to be set on a copy of a slice from a DataFrame.\n",
      "Try using .loc[row_indexer,col_indexer] = value instead\n",
      "\n",
      "See the caveats in the documentation: https://pandas.pydata.org/pandas-docs/stable/user_guide/indexing.html#returning-a-view-versus-a-copy\n",
      "  self[k1] = value[k2]\n"
     ]
    }
   ],
   "source": [
    "df_new[[\"Selling Price\", \"Purchase Price\"]] = df_new[[\"Selling Price\", \"Purchase Price\"]].replace(np.nan,0)"
   ]
  },
  {
   "cell_type": "code",
   "execution_count": 170,
   "id": "30a6b3fd",
   "metadata": {},
   "outputs": [
    {
     "name": "stderr",
     "output_type": "stream",
     "text": [
      "C:\\Users\\hp\\AppData\\Local\\Temp/ipykernel_17644/3625660371.py:1: SettingWithCopyWarning: \n",
      "A value is trying to be set on a copy of a slice from a DataFrame.\n",
      "Try using .loc[row_indexer,col_indexer] = value instead\n",
      "\n",
      "See the caveats in the documentation: https://pandas.pydata.org/pandas-docs/stable/user_guide/indexing.html#returning-a-view-versus-a-copy\n",
      "  df_new[\"Sold To\"] = df_new[\"Sold To\"].replace(np.nan,\"No record\")\n"
     ]
    }
   ],
   "source": [
    "df_new[\"Sold To\"] = df_new[\"Sold To\"].replace(np.nan,\"No record\")"
   ]
  },
  {
   "cell_type": "code",
   "execution_count": 171,
   "id": "11cd1b20",
   "metadata": {},
   "outputs": [
    {
     "name": "stdout",
     "output_type": "stream",
     "text": [
      "S/N               0\n",
      "Date              0\n",
      "Time              0\n",
      "Item              0\n",
      "Selling Price     0\n",
      "Purchase Price    0\n",
      "Sold To           0\n",
      "Quantity          0\n",
      "dtype: int64\n"
     ]
    }
   ],
   "source": [
    "print(df_new.isnull().sum())"
   ]
  },
  {
   "cell_type": "code",
   "execution_count": 14,
   "id": "44e81aa4",
   "metadata": {},
   "outputs": [],
   "source": [
    "# df.to_excel(\"adom2.xlsx\", index=False)"
   ]
  },
  {
   "cell_type": "code",
   "execution_count": 15,
   "id": "d4fe0cba",
   "metadata": {},
   "outputs": [
    {
     "data": {
      "text/plain": [
       " Wheat bran                    179\n",
       " New Maize                     121\n",
       " Soya meal ord./ Karma Soya     81\n",
       " Skretting 2mm                  58\n",
       " Biggy broiler mash             47\n",
       "                              ... \n",
       " Ovatide                         1\n",
       " Fish cure                       1\n",
       " Fish grow                       1\n",
       " Chemsate                        1\n",
       " Aller Aqua 8mm                  1\n",
       "Name: Item, Length: 76, dtype: int64"
      ]
     },
     "execution_count": 15,
     "metadata": {},
     "output_type": "execute_result"
    }
   ],
   "source": [
    "df_new[\"Item\"].value_counts()"
   ]
  },
  {
   "cell_type": "code",
   "execution_count": 16,
   "id": "e1507f48",
   "metadata": {},
   "outputs": [
    {
     "data": {
      "text/html": [
       "<div>\n",
       "<style scoped>\n",
       "    .dataframe tbody tr th:only-of-type {\n",
       "        vertical-align: middle;\n",
       "    }\n",
       "\n",
       "    .dataframe tbody tr th {\n",
       "        vertical-align: top;\n",
       "    }\n",
       "\n",
       "    .dataframe thead th {\n",
       "        text-align: right;\n",
       "    }\n",
       "</style>\n",
       "<table border=\"1\" class=\"dataframe\">\n",
       "  <thead>\n",
       "    <tr style=\"text-align: right;\">\n",
       "      <th></th>\n",
       "      <th>S/N</th>\n",
       "      <th>Date</th>\n",
       "      <th>Time</th>\n",
       "      <th>Item</th>\n",
       "      <th>Selling Price</th>\n",
       "      <th>Purchase Price</th>\n",
       "      <th>Sold To</th>\n",
       "    </tr>\n",
       "  </thead>\n",
       "  <tbody>\n",
       "    <tr>\n",
       "      <th>0</th>\n",
       "      <td>1</td>\n",
       "      <td>2020-05-01</td>\n",
       "      <td>08:52:00</td>\n",
       "      <td>Grow-max grower mash</td>\n",
       "      <td>1440.0</td>\n",
       "      <td>1200.0</td>\n",
       "      <td>Mr soyinka</td>\n",
       "    </tr>\n",
       "    <tr>\n",
       "      <th>1</th>\n",
       "      <td>2</td>\n",
       "      <td>2020-05-01</td>\n",
       "      <td>09:05:00</td>\n",
       "      <td>Aller aqua 2mm</td>\n",
       "      <td>1220.0</td>\n",
       "      <td>1000.0</td>\n",
       "      <td>daddy</td>\n",
       "    </tr>\n",
       "    <tr>\n",
       "      <th>2</th>\n",
       "      <td>3</td>\n",
       "      <td>2020-05-01</td>\n",
       "      <td>09:06:00</td>\n",
       "      <td>Aller aqua 2mm</td>\n",
       "      <td>610.0</td>\n",
       "      <td>500.0</td>\n",
       "      <td>Abduramon</td>\n",
       "    </tr>\n",
       "    <tr>\n",
       "      <th>3</th>\n",
       "      <td>4</td>\n",
       "      <td>2020-05-01</td>\n",
       "      <td>09:08:00</td>\n",
       "      <td>Soya meal ord./ Karma Soya</td>\n",
       "      <td>625.0</td>\n",
       "      <td>850.0</td>\n",
       "      <td>Mr baloguin</td>\n",
       "    </tr>\n",
       "    <tr>\n",
       "      <th>4</th>\n",
       "      <td>5</td>\n",
       "      <td>2020-05-01</td>\n",
       "      <td>09:22:00</td>\n",
       "      <td>Skretting 2mm</td>\n",
       "      <td>5520.0</td>\n",
       "      <td>4800.0</td>\n",
       "      <td>Olasheu</td>\n",
       "    </tr>\n",
       "  </tbody>\n",
       "</table>\n",
       "</div>"
      ],
      "text/plain": [
       "   S/N       Date      Time                         Item  Selling Price  \\\n",
       "0    1 2020-05-01  08:52:00         Grow-max grower mash         1440.0   \n",
       "1    2 2020-05-01  09:05:00               Aller aqua 2mm         1220.0   \n",
       "2    3 2020-05-01  09:06:00               Aller aqua 2mm          610.0   \n",
       "3    4 2020-05-01  09:08:00   Soya meal ord./ Karma Soya          625.0   \n",
       "4    5 2020-05-01  09:22:00                Skretting 2mm         5520.0   \n",
       "\n",
       "   Purchase Price      Sold To  \n",
       "0          1200.0   Mr soyinka  \n",
       "1          1000.0        daddy  \n",
       "2           500.0    Abduramon  \n",
       "3           850.0  Mr baloguin  \n",
       "4          4800.0      Olasheu  "
      ]
     },
     "execution_count": 16,
     "metadata": {},
     "output_type": "execute_result"
    }
   ],
   "source": [
    "df_new.head()"
   ]
  },
  {
   "cell_type": "code",
   "execution_count": 17,
   "id": "58d07326",
   "metadata": {},
   "outputs": [],
   "source": [
    "df_new.to_excel(\"Adom_products2.xlsx\", index=False)"
   ]
  },
  {
   "cell_type": "code",
   "execution_count": 164,
   "id": "5b168f2a",
   "metadata": {},
   "outputs": [],
   "source": [
    "product_list = df_new[\"Item\"].value_counts()"
   ]
  },
  {
   "cell_type": "code",
   "execution_count": 165,
   "id": "72692acd",
   "metadata": {},
   "outputs": [
    {
     "name": "stdout",
     "output_type": "stream",
     "text": [
      "Index([' Wheat bran', ' New Maize', ' Soya meal ord./ Karma Soya',\n",
      "       ' Skretting 2mm', ' Biggy broiler mash', ' Aller aqua 2mm', ' PKC',\n",
      "       ' Salt', ' Blue Crown Feeds 4mm', ' Corn bran', ' Blue Crown Feeds 2mm',\n",
      "       ' GNC', ' Skretting 1.8mm', ' Limestone', ' Blue Crown Feeds 6mm',\n",
      "       ' Skretting 4.5mm', ' Skretting 1mm', ' Skretting 3mm',\n",
      "       ' Blue Crown Feeds 3mm', ' Skretting 6mm', ' Grow-max grower mash',\n",
      "       ' Methionine', ' Lysine', ' Bioad', ' Aller aqua 3mm', ' Bone meal',\n",
      "       ' Fish meal 72%', ' Blue Crown Feeds 9mm', ' Rice bran',\n",
      "       ' Poultry Meal', ' Skretting 8mm', ' Micromix layer',\n",
      "       ' Skretting 0.7mm', ' DCP', ' Micromix grower', ' Lahda soya oil',\n",
      "       ' Aller aqua 4.5mm', ' Eggmaster', ' Aller Aqua 0.4mm', ' Oxytet pure',\n",
      "       ' Maxiyield big', ' Oxytet ord', ' Skretting 6mm pellet', ' Adom sack',\n",
      "       ' Micromix broiler', ' Vit C', ' Ovulin', ' Hack', ' Snipper Small',\n",
      "       ' Maxiyield med', ' Skretting 4.5mm pellet', ' Aller aqua 6mm',\n",
      "       ' Vital fish 3mm', ' Avatec', ' Doxygen', ' Vital fish 4mm',\n",
      "       ' Embazine forte', ' Neimycin Soluble powder', ' Nurturmix Premix',\n",
      "       ' Maxiyield sml', ' Skretting 0.5mm', ' Royal Guard germicide Small',\n",
      "       ' Fishbiotics', ' 2 4 D amine', ' Amequat', ' Sprayer', ' Polyzyme',\n",
      "       ' Aller Aqua 0.2mm', ' Vital fish 9mm', ' Fish premix Himix',\n",
      "       ' Aqualush', ' Ovatide', ' Fish cure', ' Fish grow', ' Chemsate',\n",
      "       ' Aller Aqua 8mm'],\n",
      "      dtype='object')\n"
     ]
    }
   ],
   "source": [
    "print(product_list.index)"
   ]
  },
  {
   "cell_type": "code",
   "execution_count": 166,
   "id": "ebf1531e",
   "metadata": {},
   "outputs": [
    {
     "name": "stdout",
     "output_type": "stream",
     "text": [
      "[179 121  81  58  47  47  41  40  38  36  34  30  30  30  27  26  25  24\n",
      "  22  22  21  20  19  19  18  18  17  17  17  12  12   9   9   8   7   7\n",
      "   7   6   6   6   6   6   6   6   5   5   5   5   4   3   3   3   3   3\n",
      "   3   3   2   2   2   2   2   1   1   1   1   1   1   1   1   1   1   1\n",
      "   1   1   1   1]\n"
     ]
    }
   ],
   "source": [
    "print(product_list.values)"
   ]
  },
  {
   "cell_type": "code",
   "execution_count": 167,
   "id": "51b1b234",
   "metadata": {},
   "outputs": [],
   "source": [
    "prod_df = pd.DataFrame({\n",
    "                        \"Products\": product_list.index,\n",
    "                        \"No of Times purchased\": product_list.values \n",
    "                       })"
   ]
  },
  {
   "cell_type": "code",
   "execution_count": 168,
   "id": "83442bc5",
   "metadata": {},
   "outputs": [
    {
     "data": {
      "text/html": [
       "<div>\n",
       "<style scoped>\n",
       "    .dataframe tbody tr th:only-of-type {\n",
       "        vertical-align: middle;\n",
       "    }\n",
       "\n",
       "    .dataframe tbody tr th {\n",
       "        vertical-align: top;\n",
       "    }\n",
       "\n",
       "    .dataframe thead th {\n",
       "        text-align: right;\n",
       "    }\n",
       "</style>\n",
       "<table border=\"1\" class=\"dataframe\">\n",
       "  <thead>\n",
       "    <tr style=\"text-align: right;\">\n",
       "      <th></th>\n",
       "      <th>Products</th>\n",
       "      <th>No of Times purchased</th>\n",
       "    </tr>\n",
       "  </thead>\n",
       "  <tbody>\n",
       "    <tr>\n",
       "      <th>0</th>\n",
       "      <td>Wheat bran</td>\n",
       "      <td>179</td>\n",
       "    </tr>\n",
       "    <tr>\n",
       "      <th>1</th>\n",
       "      <td>New Maize</td>\n",
       "      <td>121</td>\n",
       "    </tr>\n",
       "    <tr>\n",
       "      <th>2</th>\n",
       "      <td>Soya meal ord./ Karma Soya</td>\n",
       "      <td>81</td>\n",
       "    </tr>\n",
       "    <tr>\n",
       "      <th>3</th>\n",
       "      <td>Skretting 2mm</td>\n",
       "      <td>58</td>\n",
       "    </tr>\n",
       "    <tr>\n",
       "      <th>4</th>\n",
       "      <td>Biggy broiler mash</td>\n",
       "      <td>47</td>\n",
       "    </tr>\n",
       "    <tr>\n",
       "      <th>...</th>\n",
       "      <td>...</td>\n",
       "      <td>...</td>\n",
       "    </tr>\n",
       "    <tr>\n",
       "      <th>71</th>\n",
       "      <td>Ovatide</td>\n",
       "      <td>1</td>\n",
       "    </tr>\n",
       "    <tr>\n",
       "      <th>72</th>\n",
       "      <td>Fish cure</td>\n",
       "      <td>1</td>\n",
       "    </tr>\n",
       "    <tr>\n",
       "      <th>73</th>\n",
       "      <td>Fish grow</td>\n",
       "      <td>1</td>\n",
       "    </tr>\n",
       "    <tr>\n",
       "      <th>74</th>\n",
       "      <td>Chemsate</td>\n",
       "      <td>1</td>\n",
       "    </tr>\n",
       "    <tr>\n",
       "      <th>75</th>\n",
       "      <td>Aller Aqua 8mm</td>\n",
       "      <td>1</td>\n",
       "    </tr>\n",
       "  </tbody>\n",
       "</table>\n",
       "<p>76 rows × 2 columns</p>\n",
       "</div>"
      ],
      "text/plain": [
       "                       Products  No of Times purchased\n",
       "0                    Wheat bran                    179\n",
       "1                     New Maize                    121\n",
       "2    Soya meal ord./ Karma Soya                     81\n",
       "3                 Skretting 2mm                     58\n",
       "4            Biggy broiler mash                     47\n",
       "..                          ...                    ...\n",
       "71                      Ovatide                      1\n",
       "72                    Fish cure                      1\n",
       "73                    Fish grow                      1\n",
       "74                     Chemsate                      1\n",
       "75               Aller Aqua 8mm                      1\n",
       "\n",
       "[76 rows x 2 columns]"
      ]
     },
     "execution_count": 168,
     "metadata": {},
     "output_type": "execute_result"
    }
   ],
   "source": [
    "prod_df"
   ]
  },
  {
   "cell_type": "code",
   "execution_count": 169,
   "id": "051e2909",
   "metadata": {},
   "outputs": [],
   "source": [
    "# fig = plt.figure(figsize=(25,8))\n",
    "# ax = fig.add_subplot(1,1,1)\n",
    "# sns.barplot(x=\"Products\", y=\"No of Times purchased\", data = prod_df, color = 'blue')\n",
    "# ax.tick_params(axis='x', labelrotation=90, labelsize=15)\n",
    "# ax.tick_params(axis='y', labelsize=20)"
   ]
  },
  {
   "cell_type": "code",
   "execution_count": 170,
   "id": "607c9e37",
   "metadata": {},
   "outputs": [
    {
     "data": {
      "application/vnd.plotly.v1+json": {
       "config": {
        "plotlyServerURL": "https://plot.ly"
       },
       "data": [
        {
         "alignmentgroup": "True",
         "hovertemplate": "Products=%{x}<br>No of Times purchased=%{y}<extra></extra>",
         "legendgroup": "",
         "marker": {
          "color": "#636efa",
          "pattern": {
           "shape": ""
          }
         },
         "name": "",
         "offsetgroup": "",
         "orientation": "v",
         "showlegend": false,
         "textposition": "auto",
         "type": "bar",
         "x": [
          " Wheat bran",
          " New Maize",
          " Soya meal ord./ Karma Soya",
          " Skretting 2mm",
          " Biggy broiler mash",
          " Aller aqua 2mm",
          " PKC",
          " Salt",
          " Blue Crown Feeds 4mm",
          " Corn bran",
          " Blue Crown Feeds 2mm",
          " GNC",
          " Skretting 1.8mm",
          " Limestone",
          " Blue Crown Feeds 6mm",
          " Skretting 4.5mm",
          " Skretting 1mm",
          " Skretting 3mm",
          " Blue Crown Feeds 3mm",
          " Skretting 6mm",
          " Grow-max grower mash",
          " Methionine",
          " Lysine",
          " Bioad",
          " Aller aqua 3mm",
          " Bone meal",
          " Fish meal 72%",
          " Blue Crown Feeds 9mm",
          " Rice bran",
          " Poultry Meal",
          " Skretting 8mm",
          " Micromix layer",
          " Skretting 0.7mm",
          " DCP",
          " Micromix grower",
          " Lahda soya oil",
          " Aller aqua 4.5mm",
          " Eggmaster",
          " Aller Aqua 0.4mm",
          " Oxytet pure",
          " Maxiyield big",
          " Oxytet ord",
          " Skretting 6mm pellet",
          " Adom sack",
          " Micromix broiler",
          " Vit C",
          " Ovulin",
          " Hack",
          " Snipper Small",
          " Maxiyield med",
          " Skretting 4.5mm pellet",
          " Aller aqua 6mm",
          " Vital fish 3mm",
          " Avatec",
          " Doxygen",
          " Vital fish 4mm",
          " Embazine forte",
          " Neimycin Soluble powder",
          " Nurturmix Premix",
          " Maxiyield sml",
          " Skretting 0.5mm",
          " Royal Guard germicide Small",
          " Fishbiotics",
          " 2 4 D amine",
          " Amequat",
          " Sprayer",
          " Polyzyme",
          " Aller Aqua 0.2mm",
          " Vital fish 9mm",
          " Fish premix Himix",
          " Aqualush",
          " Ovatide",
          " Fish cure",
          " Fish grow",
          " Chemsate",
          " Aller Aqua 8mm"
         ],
         "xaxis": "x",
         "y": [
          179,
          121,
          81,
          58,
          47,
          47,
          41,
          40,
          38,
          36,
          34,
          30,
          30,
          30,
          27,
          26,
          25,
          24,
          22,
          22,
          21,
          20,
          19,
          19,
          18,
          18,
          17,
          17,
          17,
          12,
          12,
          9,
          9,
          8,
          7,
          7,
          7,
          6,
          6,
          6,
          6,
          6,
          6,
          6,
          5,
          5,
          5,
          5,
          4,
          3,
          3,
          3,
          3,
          3,
          3,
          3,
          2,
          2,
          2,
          2,
          2,
          1,
          1,
          1,
          1,
          1,
          1,
          1,
          1,
          1,
          1,
          1,
          1,
          1,
          1,
          1
         ],
         "yaxis": "y"
        }
       ],
       "layout": {
        "barmode": "relative",
        "height": 500,
        "legend": {
         "tracegroupgap": 0
        },
        "template": {
         "data": {
          "bar": [
           {
            "error_x": {
             "color": "#2a3f5f"
            },
            "error_y": {
             "color": "#2a3f5f"
            },
            "marker": {
             "line": {
              "color": "#E5ECF6",
              "width": 0.5
             },
             "pattern": {
              "fillmode": "overlay",
              "size": 10,
              "solidity": 0.2
             }
            },
            "type": "bar"
           }
          ],
          "barpolar": [
           {
            "marker": {
             "line": {
              "color": "#E5ECF6",
              "width": 0.5
             },
             "pattern": {
              "fillmode": "overlay",
              "size": 10,
              "solidity": 0.2
             }
            },
            "type": "barpolar"
           }
          ],
          "carpet": [
           {
            "aaxis": {
             "endlinecolor": "#2a3f5f",
             "gridcolor": "white",
             "linecolor": "white",
             "minorgridcolor": "white",
             "startlinecolor": "#2a3f5f"
            },
            "baxis": {
             "endlinecolor": "#2a3f5f",
             "gridcolor": "white",
             "linecolor": "white",
             "minorgridcolor": "white",
             "startlinecolor": "#2a3f5f"
            },
            "type": "carpet"
           }
          ],
          "choropleth": [
           {
            "colorbar": {
             "outlinewidth": 0,
             "ticks": ""
            },
            "type": "choropleth"
           }
          ],
          "contour": [
           {
            "colorbar": {
             "outlinewidth": 0,
             "ticks": ""
            },
            "colorscale": [
             [
              0,
              "#0d0887"
             ],
             [
              0.1111111111111111,
              "#46039f"
             ],
             [
              0.2222222222222222,
              "#7201a8"
             ],
             [
              0.3333333333333333,
              "#9c179e"
             ],
             [
              0.4444444444444444,
              "#bd3786"
             ],
             [
              0.5555555555555556,
              "#d8576b"
             ],
             [
              0.6666666666666666,
              "#ed7953"
             ],
             [
              0.7777777777777778,
              "#fb9f3a"
             ],
             [
              0.8888888888888888,
              "#fdca26"
             ],
             [
              1,
              "#f0f921"
             ]
            ],
            "type": "contour"
           }
          ],
          "contourcarpet": [
           {
            "colorbar": {
             "outlinewidth": 0,
             "ticks": ""
            },
            "type": "contourcarpet"
           }
          ],
          "heatmap": [
           {
            "colorbar": {
             "outlinewidth": 0,
             "ticks": ""
            },
            "colorscale": [
             [
              0,
              "#0d0887"
             ],
             [
              0.1111111111111111,
              "#46039f"
             ],
             [
              0.2222222222222222,
              "#7201a8"
             ],
             [
              0.3333333333333333,
              "#9c179e"
             ],
             [
              0.4444444444444444,
              "#bd3786"
             ],
             [
              0.5555555555555556,
              "#d8576b"
             ],
             [
              0.6666666666666666,
              "#ed7953"
             ],
             [
              0.7777777777777778,
              "#fb9f3a"
             ],
             [
              0.8888888888888888,
              "#fdca26"
             ],
             [
              1,
              "#f0f921"
             ]
            ],
            "type": "heatmap"
           }
          ],
          "heatmapgl": [
           {
            "colorbar": {
             "outlinewidth": 0,
             "ticks": ""
            },
            "colorscale": [
             [
              0,
              "#0d0887"
             ],
             [
              0.1111111111111111,
              "#46039f"
             ],
             [
              0.2222222222222222,
              "#7201a8"
             ],
             [
              0.3333333333333333,
              "#9c179e"
             ],
             [
              0.4444444444444444,
              "#bd3786"
             ],
             [
              0.5555555555555556,
              "#d8576b"
             ],
             [
              0.6666666666666666,
              "#ed7953"
             ],
             [
              0.7777777777777778,
              "#fb9f3a"
             ],
             [
              0.8888888888888888,
              "#fdca26"
             ],
             [
              1,
              "#f0f921"
             ]
            ],
            "type": "heatmapgl"
           }
          ],
          "histogram": [
           {
            "marker": {
             "pattern": {
              "fillmode": "overlay",
              "size": 10,
              "solidity": 0.2
             }
            },
            "type": "histogram"
           }
          ],
          "histogram2d": [
           {
            "colorbar": {
             "outlinewidth": 0,
             "ticks": ""
            },
            "colorscale": [
             [
              0,
              "#0d0887"
             ],
             [
              0.1111111111111111,
              "#46039f"
             ],
             [
              0.2222222222222222,
              "#7201a8"
             ],
             [
              0.3333333333333333,
              "#9c179e"
             ],
             [
              0.4444444444444444,
              "#bd3786"
             ],
             [
              0.5555555555555556,
              "#d8576b"
             ],
             [
              0.6666666666666666,
              "#ed7953"
             ],
             [
              0.7777777777777778,
              "#fb9f3a"
             ],
             [
              0.8888888888888888,
              "#fdca26"
             ],
             [
              1,
              "#f0f921"
             ]
            ],
            "type": "histogram2d"
           }
          ],
          "histogram2dcontour": [
           {
            "colorbar": {
             "outlinewidth": 0,
             "ticks": ""
            },
            "colorscale": [
             [
              0,
              "#0d0887"
             ],
             [
              0.1111111111111111,
              "#46039f"
             ],
             [
              0.2222222222222222,
              "#7201a8"
             ],
             [
              0.3333333333333333,
              "#9c179e"
             ],
             [
              0.4444444444444444,
              "#bd3786"
             ],
             [
              0.5555555555555556,
              "#d8576b"
             ],
             [
              0.6666666666666666,
              "#ed7953"
             ],
             [
              0.7777777777777778,
              "#fb9f3a"
             ],
             [
              0.8888888888888888,
              "#fdca26"
             ],
             [
              1,
              "#f0f921"
             ]
            ],
            "type": "histogram2dcontour"
           }
          ],
          "mesh3d": [
           {
            "colorbar": {
             "outlinewidth": 0,
             "ticks": ""
            },
            "type": "mesh3d"
           }
          ],
          "parcoords": [
           {
            "line": {
             "colorbar": {
              "outlinewidth": 0,
              "ticks": ""
             }
            },
            "type": "parcoords"
           }
          ],
          "pie": [
           {
            "automargin": true,
            "type": "pie"
           }
          ],
          "scatter": [
           {
            "fillpattern": {
             "fillmode": "overlay",
             "size": 10,
             "solidity": 0.2
            },
            "type": "scatter"
           }
          ],
          "scatter3d": [
           {
            "line": {
             "colorbar": {
              "outlinewidth": 0,
              "ticks": ""
             }
            },
            "marker": {
             "colorbar": {
              "outlinewidth": 0,
              "ticks": ""
             }
            },
            "type": "scatter3d"
           }
          ],
          "scattercarpet": [
           {
            "marker": {
             "colorbar": {
              "outlinewidth": 0,
              "ticks": ""
             }
            },
            "type": "scattercarpet"
           }
          ],
          "scattergeo": [
           {
            "marker": {
             "colorbar": {
              "outlinewidth": 0,
              "ticks": ""
             }
            },
            "type": "scattergeo"
           }
          ],
          "scattergl": [
           {
            "marker": {
             "colorbar": {
              "outlinewidth": 0,
              "ticks": ""
             }
            },
            "type": "scattergl"
           }
          ],
          "scattermapbox": [
           {
            "marker": {
             "colorbar": {
              "outlinewidth": 0,
              "ticks": ""
             }
            },
            "type": "scattermapbox"
           }
          ],
          "scatterpolar": [
           {
            "marker": {
             "colorbar": {
              "outlinewidth": 0,
              "ticks": ""
             }
            },
            "type": "scatterpolar"
           }
          ],
          "scatterpolargl": [
           {
            "marker": {
             "colorbar": {
              "outlinewidth": 0,
              "ticks": ""
             }
            },
            "type": "scatterpolargl"
           }
          ],
          "scatterternary": [
           {
            "marker": {
             "colorbar": {
              "outlinewidth": 0,
              "ticks": ""
             }
            },
            "type": "scatterternary"
           }
          ],
          "surface": [
           {
            "colorbar": {
             "outlinewidth": 0,
             "ticks": ""
            },
            "colorscale": [
             [
              0,
              "#0d0887"
             ],
             [
              0.1111111111111111,
              "#46039f"
             ],
             [
              0.2222222222222222,
              "#7201a8"
             ],
             [
              0.3333333333333333,
              "#9c179e"
             ],
             [
              0.4444444444444444,
              "#bd3786"
             ],
             [
              0.5555555555555556,
              "#d8576b"
             ],
             [
              0.6666666666666666,
              "#ed7953"
             ],
             [
              0.7777777777777778,
              "#fb9f3a"
             ],
             [
              0.8888888888888888,
              "#fdca26"
             ],
             [
              1,
              "#f0f921"
             ]
            ],
            "type": "surface"
           }
          ],
          "table": [
           {
            "cells": {
             "fill": {
              "color": "#EBF0F8"
             },
             "line": {
              "color": "white"
             }
            },
            "header": {
             "fill": {
              "color": "#C8D4E3"
             },
             "line": {
              "color": "white"
             }
            },
            "type": "table"
           }
          ]
         },
         "layout": {
          "annotationdefaults": {
           "arrowcolor": "#2a3f5f",
           "arrowhead": 0,
           "arrowwidth": 1
          },
          "autotypenumbers": "strict",
          "coloraxis": {
           "colorbar": {
            "outlinewidth": 0,
            "ticks": ""
           }
          },
          "colorscale": {
           "diverging": [
            [
             0,
             "#8e0152"
            ],
            [
             0.1,
             "#c51b7d"
            ],
            [
             0.2,
             "#de77ae"
            ],
            [
             0.3,
             "#f1b6da"
            ],
            [
             0.4,
             "#fde0ef"
            ],
            [
             0.5,
             "#f7f7f7"
            ],
            [
             0.6,
             "#e6f5d0"
            ],
            [
             0.7,
             "#b8e186"
            ],
            [
             0.8,
             "#7fbc41"
            ],
            [
             0.9,
             "#4d9221"
            ],
            [
             1,
             "#276419"
            ]
           ],
           "sequential": [
            [
             0,
             "#0d0887"
            ],
            [
             0.1111111111111111,
             "#46039f"
            ],
            [
             0.2222222222222222,
             "#7201a8"
            ],
            [
             0.3333333333333333,
             "#9c179e"
            ],
            [
             0.4444444444444444,
             "#bd3786"
            ],
            [
             0.5555555555555556,
             "#d8576b"
            ],
            [
             0.6666666666666666,
             "#ed7953"
            ],
            [
             0.7777777777777778,
             "#fb9f3a"
            ],
            [
             0.8888888888888888,
             "#fdca26"
            ],
            [
             1,
             "#f0f921"
            ]
           ],
           "sequentialminus": [
            [
             0,
             "#0d0887"
            ],
            [
             0.1111111111111111,
             "#46039f"
            ],
            [
             0.2222222222222222,
             "#7201a8"
            ],
            [
             0.3333333333333333,
             "#9c179e"
            ],
            [
             0.4444444444444444,
             "#bd3786"
            ],
            [
             0.5555555555555556,
             "#d8576b"
            ],
            [
             0.6666666666666666,
             "#ed7953"
            ],
            [
             0.7777777777777778,
             "#fb9f3a"
            ],
            [
             0.8888888888888888,
             "#fdca26"
            ],
            [
             1,
             "#f0f921"
            ]
           ]
          },
          "colorway": [
           "#636efa",
           "#EF553B",
           "#00cc96",
           "#ab63fa",
           "#FFA15A",
           "#19d3f3",
           "#FF6692",
           "#B6E880",
           "#FF97FF",
           "#FECB52"
          ],
          "font": {
           "color": "#2a3f5f"
          },
          "geo": {
           "bgcolor": "white",
           "lakecolor": "white",
           "landcolor": "#E5ECF6",
           "showlakes": true,
           "showland": true,
           "subunitcolor": "white"
          },
          "hoverlabel": {
           "align": "left"
          },
          "hovermode": "closest",
          "mapbox": {
           "style": "light"
          },
          "paper_bgcolor": "white",
          "plot_bgcolor": "#E5ECF6",
          "polar": {
           "angularaxis": {
            "gridcolor": "white",
            "linecolor": "white",
            "ticks": ""
           },
           "bgcolor": "#E5ECF6",
           "radialaxis": {
            "gridcolor": "white",
            "linecolor": "white",
            "ticks": ""
           }
          },
          "scene": {
           "xaxis": {
            "backgroundcolor": "#E5ECF6",
            "gridcolor": "white",
            "gridwidth": 2,
            "linecolor": "white",
            "showbackground": true,
            "ticks": "",
            "zerolinecolor": "white"
           },
           "yaxis": {
            "backgroundcolor": "#E5ECF6",
            "gridcolor": "white",
            "gridwidth": 2,
            "linecolor": "white",
            "showbackground": true,
            "ticks": "",
            "zerolinecolor": "white"
           },
           "zaxis": {
            "backgroundcolor": "#E5ECF6",
            "gridcolor": "white",
            "gridwidth": 2,
            "linecolor": "white",
            "showbackground": true,
            "ticks": "",
            "zerolinecolor": "white"
           }
          },
          "shapedefaults": {
           "line": {
            "color": "#2a3f5f"
           }
          },
          "ternary": {
           "aaxis": {
            "gridcolor": "white",
            "linecolor": "white",
            "ticks": ""
           },
           "baxis": {
            "gridcolor": "white",
            "linecolor": "white",
            "ticks": ""
           },
           "bgcolor": "#E5ECF6",
           "caxis": {
            "gridcolor": "white",
            "linecolor": "white",
            "ticks": ""
           }
          },
          "title": {
           "x": 0.05
          },
          "xaxis": {
           "automargin": true,
           "gridcolor": "white",
           "linecolor": "white",
           "ticks": "",
           "title": {
            "standoff": 15
           },
           "zerolinecolor": "white",
           "zerolinewidth": 2
          },
          "yaxis": {
           "automargin": true,
           "gridcolor": "white",
           "linecolor": "white",
           "ticks": "",
           "title": {
            "standoff": 15
           },
           "zerolinecolor": "white",
           "zerolinewidth": 2
          }
         }
        },
        "title": {
         "text": "Contribution of each product to total sales"
        },
        "width": 1500,
        "xaxis": {
         "anchor": "y",
         "domain": [
          0,
          1
         ],
         "title": {
          "text": "Products"
         }
        },
        "yaxis": {
         "anchor": "x",
         "domain": [
          0,
          1
         ],
         "title": {
          "text": "No of Times purchased"
         }
        }
       }
      },
      "text/html": [
       "<div>                            <div id=\"16cbb599-c0c0-4d40-82ea-798d92f90c38\" class=\"plotly-graph-div\" style=\"height:500px; width:1500px;\"></div>            <script type=\"text/javascript\">                require([\"plotly\"], function(Plotly) {                    window.PLOTLYENV=window.PLOTLYENV || {};                                    if (document.getElementById(\"16cbb599-c0c0-4d40-82ea-798d92f90c38\")) {                    Plotly.newPlot(                        \"16cbb599-c0c0-4d40-82ea-798d92f90c38\",                        [{\"alignmentgroup\":\"True\",\"hovertemplate\":\"Products=%{x}<br>No of Times purchased=%{y}<extra></extra>\",\"legendgroup\":\"\",\"marker\":{\"color\":\"#636efa\",\"pattern\":{\"shape\":\"\"}},\"name\":\"\",\"offsetgroup\":\"\",\"orientation\":\"v\",\"showlegend\":false,\"textposition\":\"auto\",\"x\":[\" Wheat bran\",\" New Maize\",\" Soya meal ord./ Karma Soya\",\" Skretting 2mm\",\" Biggy broiler mash\",\" Aller aqua 2mm\",\" PKC\",\" Salt\",\" Blue Crown Feeds 4mm\",\" Corn bran\",\" Blue Crown Feeds 2mm\",\" GNC\",\" Skretting 1.8mm\",\" Limestone\",\" Blue Crown Feeds 6mm\",\" Skretting 4.5mm\",\" Skretting 1mm\",\" Skretting 3mm\",\" Blue Crown Feeds 3mm\",\" Skretting 6mm\",\" Grow-max grower mash\",\" Methionine\",\" Lysine\",\" Bioad\",\" Aller aqua 3mm\",\" Bone meal\",\" Fish meal 72%\",\" Blue Crown Feeds 9mm\",\" Rice bran\",\" Poultry Meal\",\" Skretting 8mm\",\" Micromix layer\",\" Skretting 0.7mm\",\" DCP\",\" Micromix grower\",\" Lahda soya oil\",\" Aller aqua 4.5mm\",\" Eggmaster\",\" Aller Aqua 0.4mm\",\" Oxytet pure\",\" Maxiyield big\",\" Oxytet ord\",\" Skretting 6mm pellet\",\" Adom sack\",\" Micromix broiler\",\" Vit C\",\" Ovulin\",\" Hack\",\" Snipper Small\",\" Maxiyield med\",\" Skretting 4.5mm pellet\",\" Aller aqua 6mm\",\" Vital fish 3mm\",\" Avatec\",\" Doxygen\",\" Vital fish 4mm\",\" Embazine forte\",\" Neimycin Soluble powder\",\" Nurturmix Premix\",\" Maxiyield sml\",\" Skretting 0.5mm\",\" Royal Guard germicide Small\",\" Fishbiotics\",\" 2 4 D amine\",\" Amequat\",\" Sprayer\",\" Polyzyme\",\" Aller Aqua 0.2mm\",\" Vital fish 9mm\",\" Fish premix Himix\",\" Aqualush\",\" Ovatide\",\" Fish cure\",\" Fish grow\",\" Chemsate\",\" Aller Aqua 8mm\"],\"xaxis\":\"x\",\"y\":[179,121,81,58,47,47,41,40,38,36,34,30,30,30,27,26,25,24,22,22,21,20,19,19,18,18,17,17,17,12,12,9,9,8,7,7,7,6,6,6,6,6,6,6,5,5,5,5,4,3,3,3,3,3,3,3,2,2,2,2,2,1,1,1,1,1,1,1,1,1,1,1,1,1,1,1],\"yaxis\":\"y\",\"type\":\"bar\"}],                        {\"template\":{\"data\":{\"histogram2dcontour\":[{\"type\":\"histogram2dcontour\",\"colorbar\":{\"outlinewidth\":0,\"ticks\":\"\"},\"colorscale\":[[0.0,\"#0d0887\"],[0.1111111111111111,\"#46039f\"],[0.2222222222222222,\"#7201a8\"],[0.3333333333333333,\"#9c179e\"],[0.4444444444444444,\"#bd3786\"],[0.5555555555555556,\"#d8576b\"],[0.6666666666666666,\"#ed7953\"],[0.7777777777777778,\"#fb9f3a\"],[0.8888888888888888,\"#fdca26\"],[1.0,\"#f0f921\"]]}],\"choropleth\":[{\"type\":\"choropleth\",\"colorbar\":{\"outlinewidth\":0,\"ticks\":\"\"}}],\"histogram2d\":[{\"type\":\"histogram2d\",\"colorbar\":{\"outlinewidth\":0,\"ticks\":\"\"},\"colorscale\":[[0.0,\"#0d0887\"],[0.1111111111111111,\"#46039f\"],[0.2222222222222222,\"#7201a8\"],[0.3333333333333333,\"#9c179e\"],[0.4444444444444444,\"#bd3786\"],[0.5555555555555556,\"#d8576b\"],[0.6666666666666666,\"#ed7953\"],[0.7777777777777778,\"#fb9f3a\"],[0.8888888888888888,\"#fdca26\"],[1.0,\"#f0f921\"]]}],\"heatmap\":[{\"type\":\"heatmap\",\"colorbar\":{\"outlinewidth\":0,\"ticks\":\"\"},\"colorscale\":[[0.0,\"#0d0887\"],[0.1111111111111111,\"#46039f\"],[0.2222222222222222,\"#7201a8\"],[0.3333333333333333,\"#9c179e\"],[0.4444444444444444,\"#bd3786\"],[0.5555555555555556,\"#d8576b\"],[0.6666666666666666,\"#ed7953\"],[0.7777777777777778,\"#fb9f3a\"],[0.8888888888888888,\"#fdca26\"],[1.0,\"#f0f921\"]]}],\"heatmapgl\":[{\"type\":\"heatmapgl\",\"colorbar\":{\"outlinewidth\":0,\"ticks\":\"\"},\"colorscale\":[[0.0,\"#0d0887\"],[0.1111111111111111,\"#46039f\"],[0.2222222222222222,\"#7201a8\"],[0.3333333333333333,\"#9c179e\"],[0.4444444444444444,\"#bd3786\"],[0.5555555555555556,\"#d8576b\"],[0.6666666666666666,\"#ed7953\"],[0.7777777777777778,\"#fb9f3a\"],[0.8888888888888888,\"#fdca26\"],[1.0,\"#f0f921\"]]}],\"contourcarpet\":[{\"type\":\"contourcarpet\",\"colorbar\":{\"outlinewidth\":0,\"ticks\":\"\"}}],\"contour\":[{\"type\":\"contour\",\"colorbar\":{\"outlinewidth\":0,\"ticks\":\"\"},\"colorscale\":[[0.0,\"#0d0887\"],[0.1111111111111111,\"#46039f\"],[0.2222222222222222,\"#7201a8\"],[0.3333333333333333,\"#9c179e\"],[0.4444444444444444,\"#bd3786\"],[0.5555555555555556,\"#d8576b\"],[0.6666666666666666,\"#ed7953\"],[0.7777777777777778,\"#fb9f3a\"],[0.8888888888888888,\"#fdca26\"],[1.0,\"#f0f921\"]]}],\"surface\":[{\"type\":\"surface\",\"colorbar\":{\"outlinewidth\":0,\"ticks\":\"\"},\"colorscale\":[[0.0,\"#0d0887\"],[0.1111111111111111,\"#46039f\"],[0.2222222222222222,\"#7201a8\"],[0.3333333333333333,\"#9c179e\"],[0.4444444444444444,\"#bd3786\"],[0.5555555555555556,\"#d8576b\"],[0.6666666666666666,\"#ed7953\"],[0.7777777777777778,\"#fb9f3a\"],[0.8888888888888888,\"#fdca26\"],[1.0,\"#f0f921\"]]}],\"mesh3d\":[{\"type\":\"mesh3d\",\"colorbar\":{\"outlinewidth\":0,\"ticks\":\"\"}}],\"scatter\":[{\"fillpattern\":{\"fillmode\":\"overlay\",\"size\":10,\"solidity\":0.2},\"type\":\"scatter\"}],\"parcoords\":[{\"type\":\"parcoords\",\"line\":{\"colorbar\":{\"outlinewidth\":0,\"ticks\":\"\"}}}],\"scatterpolargl\":[{\"type\":\"scatterpolargl\",\"marker\":{\"colorbar\":{\"outlinewidth\":0,\"ticks\":\"\"}}}],\"bar\":[{\"error_x\":{\"color\":\"#2a3f5f\"},\"error_y\":{\"color\":\"#2a3f5f\"},\"marker\":{\"line\":{\"color\":\"#E5ECF6\",\"width\":0.5},\"pattern\":{\"fillmode\":\"overlay\",\"size\":10,\"solidity\":0.2}},\"type\":\"bar\"}],\"scattergeo\":[{\"type\":\"scattergeo\",\"marker\":{\"colorbar\":{\"outlinewidth\":0,\"ticks\":\"\"}}}],\"scatterpolar\":[{\"type\":\"scatterpolar\",\"marker\":{\"colorbar\":{\"outlinewidth\":0,\"ticks\":\"\"}}}],\"histogram\":[{\"marker\":{\"pattern\":{\"fillmode\":\"overlay\",\"size\":10,\"solidity\":0.2}},\"type\":\"histogram\"}],\"scattergl\":[{\"type\":\"scattergl\",\"marker\":{\"colorbar\":{\"outlinewidth\":0,\"ticks\":\"\"}}}],\"scatter3d\":[{\"type\":\"scatter3d\",\"line\":{\"colorbar\":{\"outlinewidth\":0,\"ticks\":\"\"}},\"marker\":{\"colorbar\":{\"outlinewidth\":0,\"ticks\":\"\"}}}],\"scattermapbox\":[{\"type\":\"scattermapbox\",\"marker\":{\"colorbar\":{\"outlinewidth\":0,\"ticks\":\"\"}}}],\"scatterternary\":[{\"type\":\"scatterternary\",\"marker\":{\"colorbar\":{\"outlinewidth\":0,\"ticks\":\"\"}}}],\"scattercarpet\":[{\"type\":\"scattercarpet\",\"marker\":{\"colorbar\":{\"outlinewidth\":0,\"ticks\":\"\"}}}],\"carpet\":[{\"aaxis\":{\"endlinecolor\":\"#2a3f5f\",\"gridcolor\":\"white\",\"linecolor\":\"white\",\"minorgridcolor\":\"white\",\"startlinecolor\":\"#2a3f5f\"},\"baxis\":{\"endlinecolor\":\"#2a3f5f\",\"gridcolor\":\"white\",\"linecolor\":\"white\",\"minorgridcolor\":\"white\",\"startlinecolor\":\"#2a3f5f\"},\"type\":\"carpet\"}],\"table\":[{\"cells\":{\"fill\":{\"color\":\"#EBF0F8\"},\"line\":{\"color\":\"white\"}},\"header\":{\"fill\":{\"color\":\"#C8D4E3\"},\"line\":{\"color\":\"white\"}},\"type\":\"table\"}],\"barpolar\":[{\"marker\":{\"line\":{\"color\":\"#E5ECF6\",\"width\":0.5},\"pattern\":{\"fillmode\":\"overlay\",\"size\":10,\"solidity\":0.2}},\"type\":\"barpolar\"}],\"pie\":[{\"automargin\":true,\"type\":\"pie\"}]},\"layout\":{\"autotypenumbers\":\"strict\",\"colorway\":[\"#636efa\",\"#EF553B\",\"#00cc96\",\"#ab63fa\",\"#FFA15A\",\"#19d3f3\",\"#FF6692\",\"#B6E880\",\"#FF97FF\",\"#FECB52\"],\"font\":{\"color\":\"#2a3f5f\"},\"hovermode\":\"closest\",\"hoverlabel\":{\"align\":\"left\"},\"paper_bgcolor\":\"white\",\"plot_bgcolor\":\"#E5ECF6\",\"polar\":{\"bgcolor\":\"#E5ECF6\",\"angularaxis\":{\"gridcolor\":\"white\",\"linecolor\":\"white\",\"ticks\":\"\"},\"radialaxis\":{\"gridcolor\":\"white\",\"linecolor\":\"white\",\"ticks\":\"\"}},\"ternary\":{\"bgcolor\":\"#E5ECF6\",\"aaxis\":{\"gridcolor\":\"white\",\"linecolor\":\"white\",\"ticks\":\"\"},\"baxis\":{\"gridcolor\":\"white\",\"linecolor\":\"white\",\"ticks\":\"\"},\"caxis\":{\"gridcolor\":\"white\",\"linecolor\":\"white\",\"ticks\":\"\"}},\"coloraxis\":{\"colorbar\":{\"outlinewidth\":0,\"ticks\":\"\"}},\"colorscale\":{\"sequential\":[[0.0,\"#0d0887\"],[0.1111111111111111,\"#46039f\"],[0.2222222222222222,\"#7201a8\"],[0.3333333333333333,\"#9c179e\"],[0.4444444444444444,\"#bd3786\"],[0.5555555555555556,\"#d8576b\"],[0.6666666666666666,\"#ed7953\"],[0.7777777777777778,\"#fb9f3a\"],[0.8888888888888888,\"#fdca26\"],[1.0,\"#f0f921\"]],\"sequentialminus\":[[0.0,\"#0d0887\"],[0.1111111111111111,\"#46039f\"],[0.2222222222222222,\"#7201a8\"],[0.3333333333333333,\"#9c179e\"],[0.4444444444444444,\"#bd3786\"],[0.5555555555555556,\"#d8576b\"],[0.6666666666666666,\"#ed7953\"],[0.7777777777777778,\"#fb9f3a\"],[0.8888888888888888,\"#fdca26\"],[1.0,\"#f0f921\"]],\"diverging\":[[0,\"#8e0152\"],[0.1,\"#c51b7d\"],[0.2,\"#de77ae\"],[0.3,\"#f1b6da\"],[0.4,\"#fde0ef\"],[0.5,\"#f7f7f7\"],[0.6,\"#e6f5d0\"],[0.7,\"#b8e186\"],[0.8,\"#7fbc41\"],[0.9,\"#4d9221\"],[1,\"#276419\"]]},\"xaxis\":{\"gridcolor\":\"white\",\"linecolor\":\"white\",\"ticks\":\"\",\"title\":{\"standoff\":15},\"zerolinecolor\":\"white\",\"automargin\":true,\"zerolinewidth\":2},\"yaxis\":{\"gridcolor\":\"white\",\"linecolor\":\"white\",\"ticks\":\"\",\"title\":{\"standoff\":15},\"zerolinecolor\":\"white\",\"automargin\":true,\"zerolinewidth\":2},\"scene\":{\"xaxis\":{\"backgroundcolor\":\"#E5ECF6\",\"gridcolor\":\"white\",\"linecolor\":\"white\",\"showbackground\":true,\"ticks\":\"\",\"zerolinecolor\":\"white\",\"gridwidth\":2},\"yaxis\":{\"backgroundcolor\":\"#E5ECF6\",\"gridcolor\":\"white\",\"linecolor\":\"white\",\"showbackground\":true,\"ticks\":\"\",\"zerolinecolor\":\"white\",\"gridwidth\":2},\"zaxis\":{\"backgroundcolor\":\"#E5ECF6\",\"gridcolor\":\"white\",\"linecolor\":\"white\",\"showbackground\":true,\"ticks\":\"\",\"zerolinecolor\":\"white\",\"gridwidth\":2}},\"shapedefaults\":{\"line\":{\"color\":\"#2a3f5f\"}},\"annotationdefaults\":{\"arrowcolor\":\"#2a3f5f\",\"arrowhead\":0,\"arrowwidth\":1},\"geo\":{\"bgcolor\":\"white\",\"landcolor\":\"#E5ECF6\",\"subunitcolor\":\"white\",\"showland\":true,\"showlakes\":true,\"lakecolor\":\"white\"},\"title\":{\"x\":0.05},\"mapbox\":{\"style\":\"light\"}}},\"xaxis\":{\"anchor\":\"y\",\"domain\":[0.0,1.0],\"title\":{\"text\":\"Products\"}},\"yaxis\":{\"anchor\":\"x\",\"domain\":[0.0,1.0],\"title\":{\"text\":\"No of Times purchased\"}},\"legend\":{\"tracegroupgap\":0},\"title\":{\"text\":\"Contribution of each product to total sales\"},\"barmode\":\"relative\",\"height\":500,\"width\":1500},                        {\"responsive\": true}                    ).then(function(){\n",
       "                            \n",
       "var gd = document.getElementById('16cbb599-c0c0-4d40-82ea-798d92f90c38');\n",
       "var x = new MutationObserver(function (mutations, observer) {{\n",
       "        var display = window.getComputedStyle(gd).display;\n",
       "        if (!display || display === 'none') {{\n",
       "            console.log([gd, 'removed!']);\n",
       "            Plotly.purge(gd);\n",
       "            observer.disconnect();\n",
       "        }}\n",
       "}});\n",
       "\n",
       "// Listen for the removal of the full notebook cells\n",
       "var notebookContainer = gd.closest('#notebook-container');\n",
       "if (notebookContainer) {{\n",
       "    x.observe(notebookContainer, {childList: true});\n",
       "}}\n",
       "\n",
       "// Listen for the clearing of the current output cell\n",
       "var outputEl = gd.closest('.output');\n",
       "if (outputEl) {{\n",
       "    x.observe(outputEl, {childList: true});\n",
       "}}\n",
       "\n",
       "                        })                };                });            </script>        </div>"
      ]
     },
     "metadata": {},
     "output_type": "display_data"
    }
   ],
   "source": [
    "fig = px.bar(prod_df,x=\"Products\", y=\"No of Times purchased\", \n",
    "             labels={\"Products\": \"Products\",\n",
    "                     \"Packs sold\": \"No of Times purchased\",\n",
    "             },\n",
    "             title='Contribution of each product to total sales', \n",
    "             width = 1500, \n",
    "             height = 500)\n",
    "             \n",
    "fig.show()"
   ]
  },
  {
   "cell_type": "markdown",
   "id": "4c96b454",
   "metadata": {},
   "source": [
    "## Time of order\n",
    "To have an insight into when the most orders come in\n",
    " - Between 4am and 8am was classified as \"Early morning\"\n",
    " - Between 8am and 12noon was classified as \"morning\"\n",
    " - Between 12noon and 4pm was classified as Noon\n",
    " - 4pm and 8pm classified as eve\n",
    " - after 8pm and before 12 midnight as \"Night\"\n",
    " - Before 4am"
   ]
  },
  {
   "cell_type": "code",
   "execution_count": 171,
   "id": "d266e0cc",
   "metadata": {},
   "outputs": [
    {
     "name": "stdout",
     "output_type": "stream",
     "text": [
      "\n",
      "    This function takes in the dataset\n",
      "    and returns the hour of the day the\n",
      "    order was\n",
      "    \n"
     ]
    }
   ],
   "source": [
    "def f(data):\n",
    "    \"\"\"\n",
    "    This function takes in the dataset\n",
    "    and returns the hour of the day the\n",
    "    order was\n",
    "    \"\"\"\n",
    "    hour_of_day = []\n",
    "    for index,record in data.iterrows():\n",
    "        x = int(record[\"Time\"].hour)\n",
    "        if (x > 4) and (x <= 8):\n",
    "            hour=\"Early Morning\"\n",
    "        elif (x > 8) and (x <= 12 ):\n",
    "            hour='Morning'\n",
    "        elif (x > 12) and (x <= 16):\n",
    "            hour='Noon'\n",
    "        elif (x > 16) and (x <= 20) :\n",
    "            hour='Eve'\n",
    "        elif (x > 20) and (x <= 24):\n",
    "            hour='Night'\n",
    "        elif (x > 24) and (x < 4):\n",
    "            hour='Late Night'\n",
    "        hour_of_day.append(hour)\n",
    "    return hour_of_day\n",
    "\n",
    "print(f.__doc__)"
   ]
  },
  {
   "cell_type": "code",
   "execution_count": 172,
   "id": "82323027",
   "metadata": {},
   "outputs": [
    {
     "name": "stderr",
     "output_type": "stream",
     "text": [
      "C:\\Users\\hp\\AppData\\Local\\Temp/ipykernel_5444/3478219884.py:1: SettingWithCopyWarning:\n",
      "\n",
      "\n",
      "A value is trying to be set on a copy of a slice from a DataFrame.\n",
      "Try using .loc[row_indexer,col_indexer] = value instead\n",
      "\n",
      "See the caveats in the documentation: https://pandas.pydata.org/pandas-docs/stable/user_guide/indexing.html#returning-a-view-versus-a-copy\n",
      "\n"
     ]
    }
   ],
   "source": [
    "df_new[\"Hour of Day\"] = f(df_new)"
   ]
  },
  {
   "cell_type": "code",
   "execution_count": 173,
   "id": "b154dc5e",
   "metadata": {},
   "outputs": [
    {
     "name": "stderr",
     "output_type": "stream",
     "text": [
      "C:\\Users\\hp\\anaconda3\\lib\\site-packages\\seaborn\\_decorators.py:36: FutureWarning:\n",
      "\n",
      "Pass the following variable as a keyword arg: x. From version 0.12, the only valid positional argument will be `data`, and passing other arguments without an explicit keyword will result in an error or misinterpretation.\n",
      "\n"
     ]
    },
    {
     "data": {
      "text/plain": [
       "<AxesSubplot:xlabel='Hour of Day', ylabel='count'>"
      ]
     },
     "execution_count": 173,
     "metadata": {},
     "output_type": "execute_result"
    },
    {
     "data": {
      "image/png": "[encoded data removed]",
      "text/plain": [
       "<Figure size 432x288 with 1 Axes>"
      ]
     },
     "metadata": {
      "needs_background": "light"
     },
     "output_type": "display_data"
    }
   ],
   "source": [
    "# hour_day = df_new[\"Hour of Day\"].value_counts()\n",
    "# fig = plt.figure()\n",
    "# ax = fig.add_subplot(1,1,1)\n",
    "# ax.set_xlabel(\"Number of Orders\")\n",
    "# ax.set_ylabel(\"Hour of Day\")\n",
    "# ax.set_title(\"Number of orders during hours of the Day\")\n",
    "# sns.barplot(x = hour_day.values, y = hour_day.index)\n",
    "sns.countplot(df_new[\"Hour of Day\"])"
   ]
  },
  {
   "cell_type": "markdown",
   "id": "b420b0e8",
   "metadata": {},
   "source": [
    "Most of the orders are at noon"
   ]
  },
  {
   "cell_type": "markdown",
   "id": "de7426bc",
   "metadata": {},
   "source": [
    "### The products that generate the most revenue"
   ]
  },
  {
   "cell_type": "code",
   "execution_count": 193,
   "id": "b656eb8e",
   "metadata": {},
   "outputs": [],
   "source": [
    "item_sum = df_new[[\"Item\", \"Selling Price\",\"Purchase Price\"]].groupby([\"Item\"]).sum().sort_values(by='Selling Price', ascending = False)"
   ]
  },
  {
   "cell_type": "code",
   "execution_count": 194,
   "id": "65be2a01",
   "metadata": {},
   "outputs": [],
   "source": [
    "item_sum.reset_index(inplace=True)"
   ]
  },
  {
   "cell_type": "code",
   "execution_count": 195,
   "id": "12ccff53",
   "metadata": {},
   "outputs": [],
   "source": [
    "item_sum_sliced = item_sum[0:11]"
   ]
  },
  {
   "cell_type": "code",
   "execution_count": 196,
   "id": "e77b1cb6",
   "metadata": {},
   "outputs": [
    {
     "data": {
      "text/html": [
       "<div>\n",
       "<style scoped>\n",
       "    .dataframe tbody tr th:only-of-type {\n",
       "        vertical-align: middle;\n",
       "    }\n",
       "\n",
       "    .dataframe tbody tr th {\n",
       "        vertical-align: top;\n",
       "    }\n",
       "\n",
       "    .dataframe thead th {\n",
       "        text-align: right;\n",
       "    }\n",
       "</style>\n",
       "<table border=\"1\" class=\"dataframe\">\n",
       "  <thead>\n",
       "    <tr style=\"text-align: right;\">\n",
       "      <th></th>\n",
       "      <th>Item</th>\n",
       "      <th>Selling Price</th>\n",
       "      <th>Purchase Price</th>\n",
       "    </tr>\n",
       "  </thead>\n",
       "  <tbody>\n",
       "    <tr>\n",
       "      <th>0</th>\n",
       "      <td>New Maize</td>\n",
       "      <td>4923966.0</td>\n",
       "      <td>3293325.00</td>\n",
       "    </tr>\n",
       "    <tr>\n",
       "      <th>1</th>\n",
       "      <td>Soya meal ord./ Karma Soya</td>\n",
       "      <td>2846829.0</td>\n",
       "      <td>3945530.00</td>\n",
       "    </tr>\n",
       "    <tr>\n",
       "      <th>2</th>\n",
       "      <td>Wheat bran</td>\n",
       "      <td>2315805.0</td>\n",
       "      <td>1466199.39</td>\n",
       "    </tr>\n",
       "    <tr>\n",
       "      <th>3</th>\n",
       "      <td>Fish meal 72%</td>\n",
       "      <td>1141625.0</td>\n",
       "      <td>920500.00</td>\n",
       "    </tr>\n",
       "    <tr>\n",
       "      <th>4</th>\n",
       "      <td>DCP</td>\n",
       "      <td>784900.0</td>\n",
       "      <td>700750.00</td>\n",
       "    </tr>\n",
       "    <tr>\n",
       "      <th>5</th>\n",
       "      <td>Aller aqua 2mm</td>\n",
       "      <td>613650.0</td>\n",
       "      <td>523500.00</td>\n",
       "    </tr>\n",
       "    <tr>\n",
       "      <th>6</th>\n",
       "      <td>Methionine</td>\n",
       "      <td>502625.0</td>\n",
       "      <td>491250.00</td>\n",
       "    </tr>\n",
       "    <tr>\n",
       "      <th>7</th>\n",
       "      <td>Aller aqua 3mm</td>\n",
       "      <td>393795.0</td>\n",
       "      <td>159456.78</td>\n",
       "    </tr>\n",
       "    <tr>\n",
       "      <th>8</th>\n",
       "      <td>Poultry Meal</td>\n",
       "      <td>334800.0</td>\n",
       "      <td>3530.20</td>\n",
       "    </tr>\n",
       "    <tr>\n",
       "      <th>9</th>\n",
       "      <td>Bioad</td>\n",
       "      <td>282250.0</td>\n",
       "      <td>296100.00</td>\n",
       "    </tr>\n",
       "    <tr>\n",
       "      <th>10</th>\n",
       "      <td>PKC</td>\n",
       "      <td>267871.0</td>\n",
       "      <td>274840.00</td>\n",
       "    </tr>\n",
       "  </tbody>\n",
       "</table>\n",
       "</div>"
      ],
      "text/plain": [
       "                           Item  Selling Price  Purchase Price\n",
       "0                     New Maize      4923966.0      3293325.00\n",
       "1    Soya meal ord./ Karma Soya      2846829.0      3945530.00\n",
       "2                    Wheat bran      2315805.0      1466199.39\n",
       "3                 Fish meal 72%      1141625.0       920500.00\n",
       "4                           DCP       784900.0       700750.00\n",
       "5                Aller aqua 2mm       613650.0       523500.00\n",
       "6                    Methionine       502625.0       491250.00\n",
       "7                Aller aqua 3mm       393795.0       159456.78\n",
       "8                  Poultry Meal       334800.0         3530.20\n",
       "9                         Bioad       282250.0       296100.00\n",
       "10                          PKC       267871.0       274840.00"
      ]
     },
     "execution_count": 196,
     "metadata": {},
     "output_type": "execute_result"
    }
   ],
   "source": [
    "item_sum_sliced"
   ]
  },
  {
   "cell_type": "code",
   "execution_count": 197,
   "id": "d5d2cda0",
   "metadata": {},
   "outputs": [
    {
     "data": {
      "image/png": "[encoded data removed]",
      "text/plain": [
       "<Figure size 864x432 with 1 Axes>"
      ]
     },
     "metadata": {
      "needs_background": "light"
     },
     "output_type": "display_data"
    }
   ],
   "source": [
    "plt.figure(figsize=(12,6))\n",
    "\n",
    "ax = sns.barplot(x=\"Selling Price\", y=\"Item\", data= item_sum_sliced, color='blue')\n",
    "ax.set(xlabel=\"Revenue Generated\", ylabel=\"Item\")\n",
    "plt.ticklabel_format(style='plain', axis='x')\n",
    "plt.show(ax)"
   ]
  },
  {
   "cell_type": "code",
   "execution_count": 198,
   "id": "b7b016e3",
   "metadata": {},
   "outputs": [
    {
     "data": {
      "text/html": [
       "<div>\n",
       "<style scoped>\n",
       "    .dataframe tbody tr th:only-of-type {\n",
       "        vertical-align: middle;\n",
       "    }\n",
       "\n",
       "    .dataframe tbody tr th {\n",
       "        vertical-align: top;\n",
       "    }\n",
       "\n",
       "    .dataframe thead th {\n",
       "        text-align: right;\n",
       "    }\n",
       "</style>\n",
       "<table border=\"1\" class=\"dataframe\">\n",
       "  <thead>\n",
       "    <tr style=\"text-align: right;\">\n",
       "      <th></th>\n",
       "      <th>Item</th>\n",
       "      <th>Selling Price</th>\n",
       "      <th>Purchase Price</th>\n",
       "    </tr>\n",
       "  </thead>\n",
       "  <tbody>\n",
       "    <tr>\n",
       "      <th>0</th>\n",
       "      <td>New Maize</td>\n",
       "      <td>4923966.0</td>\n",
       "      <td>3293325.00</td>\n",
       "    </tr>\n",
       "    <tr>\n",
       "      <th>1</th>\n",
       "      <td>Soya meal ord./ Karma Soya</td>\n",
       "      <td>2846829.0</td>\n",
       "      <td>3945530.00</td>\n",
       "    </tr>\n",
       "    <tr>\n",
       "      <th>2</th>\n",
       "      <td>Wheat bran</td>\n",
       "      <td>2315805.0</td>\n",
       "      <td>1466199.39</td>\n",
       "    </tr>\n",
       "    <tr>\n",
       "      <th>3</th>\n",
       "      <td>Fish meal 72%</td>\n",
       "      <td>1141625.0</td>\n",
       "      <td>920500.00</td>\n",
       "    </tr>\n",
       "    <tr>\n",
       "      <th>4</th>\n",
       "      <td>DCP</td>\n",
       "      <td>784900.0</td>\n",
       "      <td>700750.00</td>\n",
       "    </tr>\n",
       "    <tr>\n",
       "      <th>...</th>\n",
       "      <td>...</td>\n",
       "      <td>...</td>\n",
       "      <td>...</td>\n",
       "    </tr>\n",
       "    <tr>\n",
       "      <th>71</th>\n",
       "      <td>Fishbiotics</td>\n",
       "      <td>500.0</td>\n",
       "      <td>450.00</td>\n",
       "    </tr>\n",
       "    <tr>\n",
       "      <th>72</th>\n",
       "      <td>Fish grow</td>\n",
       "      <td>450.0</td>\n",
       "      <td>430.00</td>\n",
       "    </tr>\n",
       "    <tr>\n",
       "      <th>73</th>\n",
       "      <td>Royal Guard germicide Small</td>\n",
       "      <td>400.0</td>\n",
       "      <td>0.00</td>\n",
       "    </tr>\n",
       "    <tr>\n",
       "      <th>74</th>\n",
       "      <td>Amequat</td>\n",
       "      <td>0.0</td>\n",
       "      <td>0.00</td>\n",
       "    </tr>\n",
       "    <tr>\n",
       "      <th>75</th>\n",
       "      <td>2 4 D amine</td>\n",
       "      <td>0.0</td>\n",
       "      <td>0.00</td>\n",
       "    </tr>\n",
       "  </tbody>\n",
       "</table>\n",
       "<p>76 rows × 3 columns</p>\n",
       "</div>"
      ],
      "text/plain": [
       "                            Item  Selling Price  Purchase Price\n",
       "0                      New Maize      4923966.0      3293325.00\n",
       "1     Soya meal ord./ Karma Soya      2846829.0      3945530.00\n",
       "2                     Wheat bran      2315805.0      1466199.39\n",
       "3                  Fish meal 72%      1141625.0       920500.00\n",
       "4                            DCP       784900.0       700750.00\n",
       "..                           ...            ...             ...\n",
       "71                   Fishbiotics          500.0          450.00\n",
       "72                     Fish grow          450.0          430.00\n",
       "73   Royal Guard germicide Small          400.0            0.00\n",
       "74                       Amequat            0.0            0.00\n",
       "75                   2 4 D amine            0.0            0.00\n",
       "\n",
       "[76 rows x 3 columns]"
      ]
     },
     "execution_count": 198,
     "metadata": {},
     "output_type": "execute_result"
    }
   ],
   "source": [
    "item_sum"
   ]
  },
  {
   "cell_type": "code",
   "execution_count": 204,
   "id": "050f9261",
   "metadata": {},
   "outputs": [],
   "source": [
    "Total_amount_sold = []\n",
    "Total_amount_purchased = []\n",
    "for prod in prod_df[\"Products\"]:\n",
    "    for product,sell,purchase in zip(item_sum[\"Item\"], item_sum[\"Selling Price\"], item_sum[\"Purchase Price\"]):\n",
    "        if product == prod:\n",
    "            Total_amount_sold.append(sell)\n",
    "            Total_amount_purchased.append(purchase)\n",
    "        else:\n",
    "            continue"
   ]
  },
  {
   "cell_type": "code",
   "execution_count": 206,
   "id": "f385c374",
   "metadata": {},
   "outputs": [],
   "source": [
    "prod_df[\"Total revenue\"] = Total_amount_sold\n",
    "prod_df[\"Total cost\"] = Total_amount_purchased"
   ]
  },
  {
   "cell_type": "code",
   "execution_count": 207,
   "id": "2ead52f4",
   "metadata": {},
   "outputs": [
    {
     "data": {
      "text/html": [
       "<div>\n",
       "<style scoped>\n",
       "    .dataframe tbody tr th:only-of-type {\n",
       "        vertical-align: middle;\n",
       "    }\n",
       "\n",
       "    .dataframe tbody tr th {\n",
       "        vertical-align: top;\n",
       "    }\n",
       "\n",
       "    .dataframe thead th {\n",
       "        text-align: right;\n",
       "    }\n",
       "</style>\n",
       "<table border=\"1\" class=\"dataframe\">\n",
       "  <thead>\n",
       "    <tr style=\"text-align: right;\">\n",
       "      <th></th>\n",
       "      <th>Products</th>\n",
       "      <th>No of Times purchased</th>\n",
       "      <th>Total revenue</th>\n",
       "      <th>Total cost</th>\n",
       "    </tr>\n",
       "  </thead>\n",
       "  <tbody>\n",
       "    <tr>\n",
       "      <th>0</th>\n",
       "      <td>Wheat bran</td>\n",
       "      <td>179</td>\n",
       "      <td>2315805.0</td>\n",
       "      <td>1466199.39</td>\n",
       "    </tr>\n",
       "    <tr>\n",
       "      <th>1</th>\n",
       "      <td>New Maize</td>\n",
       "      <td>121</td>\n",
       "      <td>4923966.0</td>\n",
       "      <td>3293325.00</td>\n",
       "    </tr>\n",
       "    <tr>\n",
       "      <th>2</th>\n",
       "      <td>Soya meal ord./ Karma Soya</td>\n",
       "      <td>81</td>\n",
       "      <td>2846829.0</td>\n",
       "      <td>3945530.00</td>\n",
       "    </tr>\n",
       "    <tr>\n",
       "      <th>3</th>\n",
       "      <td>Skretting 2mm</td>\n",
       "      <td>58</td>\n",
       "      <td>202950.0</td>\n",
       "      <td>177000.00</td>\n",
       "    </tr>\n",
       "    <tr>\n",
       "      <th>4</th>\n",
       "      <td>Biggy broiler mash</td>\n",
       "      <td>47</td>\n",
       "      <td>15750.0</td>\n",
       "      <td>14700.00</td>\n",
       "    </tr>\n",
       "    <tr>\n",
       "      <th>...</th>\n",
       "      <td>...</td>\n",
       "      <td>...</td>\n",
       "      <td>...</td>\n",
       "      <td>...</td>\n",
       "    </tr>\n",
       "    <tr>\n",
       "      <th>71</th>\n",
       "      <td>Ovatide</td>\n",
       "      <td>1</td>\n",
       "      <td>4000.0</td>\n",
       "      <td>3500.00</td>\n",
       "    </tr>\n",
       "    <tr>\n",
       "      <th>72</th>\n",
       "      <td>Fish cure</td>\n",
       "      <td>1</td>\n",
       "      <td>2000.0</td>\n",
       "      <td>1800.00</td>\n",
       "    </tr>\n",
       "    <tr>\n",
       "      <th>73</th>\n",
       "      <td>Fish grow</td>\n",
       "      <td>1</td>\n",
       "      <td>450.0</td>\n",
       "      <td>430.00</td>\n",
       "    </tr>\n",
       "    <tr>\n",
       "      <th>74</th>\n",
       "      <td>Chemsate</td>\n",
       "      <td>1</td>\n",
       "      <td>1250.0</td>\n",
       "      <td>0.00</td>\n",
       "    </tr>\n",
       "    <tr>\n",
       "      <th>75</th>\n",
       "      <td>Aller Aqua 8mm</td>\n",
       "      <td>1</td>\n",
       "      <td>12740.0</td>\n",
       "      <td>0.00</td>\n",
       "    </tr>\n",
       "  </tbody>\n",
       "</table>\n",
       "<p>76 rows × 4 columns</p>\n",
       "</div>"
      ],
      "text/plain": [
       "                       Products  No of Times purchased  Total revenue  \\\n",
       "0                    Wheat bran                    179      2315805.0   \n",
       "1                     New Maize                    121      4923966.0   \n",
       "2    Soya meal ord./ Karma Soya                     81      2846829.0   \n",
       "3                 Skretting 2mm                     58       202950.0   \n",
       "4            Biggy broiler mash                     47        15750.0   \n",
       "..                          ...                    ...            ...   \n",
       "71                      Ovatide                      1         4000.0   \n",
       "72                    Fish cure                      1         2000.0   \n",
       "73                    Fish grow                      1          450.0   \n",
       "74                     Chemsate                      1         1250.0   \n",
       "75               Aller Aqua 8mm                      1        12740.0   \n",
       "\n",
       "    Total cost  \n",
       "0   1466199.39  \n",
       "1   3293325.00  \n",
       "2   3945530.00  \n",
       "3    177000.00  \n",
       "4     14700.00  \n",
       "..         ...  \n",
       "71     3500.00  \n",
       "72     1800.00  \n",
       "73      430.00  \n",
       "74        0.00  \n",
       "75        0.00  \n",
       "\n",
       "[76 rows x 4 columns]"
      ]
     },
     "execution_count": 207,
     "metadata": {},
     "output_type": "execute_result"
    }
   ],
   "source": [
    "prod_df"
   ]
  },
  {
   "cell_type": "code",
   "execution_count": 208,
   "id": "66cd5144",
   "metadata": {},
   "outputs": [],
   "source": [
    "prod_df.to_excel(\"Adom_products.xlsx\", index=False)"
   ]
  },
  {
   "cell_type": "code",
   "execution_count": null,
   "id": "cb6fe348",
   "metadata": {},
   "outputs": [],
   "source": []
  }
 ],
 "metadata": {
  "kernelspec": {
   "display_name": "Python 3 (ipykernel)",
   "language": "python",
   "name": "python3"
  },
  "language_info": {
   "codemirror_mode": {
    "name": "ipython",
    "version": 3
   },
   "file_extension": ".py",
   "mimetype": "text/x-python",
   "name": "python",
   "nbconvert_exporter": "python",
   "pygments_lexer": "ipython3",
   "version": "3.9.7"
  }
 },
 "nbformat": 4,
 "nbformat_minor": 5
}
